{
 "cells": [
  {
   "cell_type": "code",
   "execution_count": 1,
   "id": "3485e782",
   "metadata": {},
   "outputs": [],
   "source": [
    "import warnings\n",
    "from glob import glob\n",
    "\n",
    "import matplotlib.pyplot as plt\n",
    "import numpy as np\n",
    "import pandas as pd\n",
    "from category_encoders import OneHotEncoder\n",
    "from sklearn.linear_model import LinearRegression, Ridge  # noqa F401\n",
    "from sklearn.metrics import mean_absolute_error\n",
    "from sklearn.pipeline import make_pipeline\n",
    "from sklearn.utils.validation import check_is_fitted\n",
    "\n",
    "warnings.simplefilter(action=\"ignore\", category=FutureWarning)"
   ]
  },
  {
   "cell_type": "code",
   "execution_count": 6,
   "id": "93734558",
   "metadata": {},
   "outputs": [],
   "source": [
    "def wrangle(filepath):\n",
    "     # Read CSV file into Dataframe\n",
    "    df_dt = pd.read_csv(filepath)\n",
    "    \n",
    "    # Drop features with high null counts\n",
    "    df_dt.drop(columns=[\"Curb Cut\", \"Horizontal Enlrgmt\", \"Vertical Enlrgmt\"], inplace=True)\n",
    "    \n",
    "    # Remove NAN Value\n",
    "    df_dt.dropna(inplace=True)\n",
    "    \n",
    "    # Transform 'Initial Cost from object to float\n",
    "    df_dt['Initial Cost'] = df_dt['Initial Cost'].apply(lambda x: float(x.replace('$','').replace(',','')))\n",
    "    \n",
    "    df_dt.drop(['Block','Bin #','Community - Board',\n",
    "               'Fully Permitted','Enlargement SQ Footage',\n",
    "               'Job Description','House #',\n",
    "               'Street Name'],axis = 1, inplace = True)\n",
    "    \n",
    "    \n",
    "    return df_dt"
   ]
  },
  {
   "cell_type": "code",
   "execution_count": 7,
   "id": "3382d16d",
   "metadata": {},
   "outputs": [
    {
     "name": "stdout",
     "output_type": "stream",
     "text": [
      "<class 'pandas.core.frame.DataFrame'>\n",
      "Int64Index: 14823 entries, 1 to 19610\n",
      "Data columns (total 7 columns):\n",
      " #   Column                Non-Null Count  Dtype  \n",
      "---  ------                --------------  -----  \n",
      " 0   Job #                 14823 non-null  int64  \n",
      " 1   Borough               14823 non-null  object \n",
      " 2   Lot                   14823 non-null  int64  \n",
      " 3   Job Type              14823 non-null  object \n",
      " 4   Initial Cost          14823 non-null  float64\n",
      " 5   Proposed Zoning Sqft  14823 non-null  int64  \n",
      " 6   Zoning Dist1          14823 non-null  object \n",
      "dtypes: float64(1), int64(3), object(3)\n",
      "memory usage: 926.4+ KB\n",
      "None\n"
     ]
    },
    {
     "data": {
      "text/html": [
       "<div>\n",
       "<style scoped>\n",
       "    .dataframe tbody tr th:only-of-type {\n",
       "        vertical-align: middle;\n",
       "    }\n",
       "\n",
       "    .dataframe tbody tr th {\n",
       "        vertical-align: top;\n",
       "    }\n",
       "\n",
       "    .dataframe thead th {\n",
       "        text-align: right;\n",
       "    }\n",
       "</style>\n",
       "<table border=\"1\" class=\"dataframe\">\n",
       "  <thead>\n",
       "    <tr style=\"text-align: right;\">\n",
       "      <th></th>\n",
       "      <th>Job #</th>\n",
       "      <th>Borough</th>\n",
       "      <th>Lot</th>\n",
       "      <th>Job Type</th>\n",
       "      <th>Initial Cost</th>\n",
       "      <th>Proposed Zoning Sqft</th>\n",
       "      <th>Zoning Dist1</th>\n",
       "    </tr>\n",
       "  </thead>\n",
       "  <tbody>\n",
       "    <tr>\n",
       "      <th>1</th>\n",
       "      <td>140922893</td>\n",
       "      <td>MANHATTAN</td>\n",
       "      <td>43</td>\n",
       "      <td>A2</td>\n",
       "      <td>85000.0</td>\n",
       "      <td>0</td>\n",
       "      <td>R8B</td>\n",
       "    </tr>\n",
       "    <tr>\n",
       "      <th>2</th>\n",
       "      <td>301773579</td>\n",
       "      <td>BROOKLYN</td>\n",
       "      <td>86</td>\n",
       "      <td>A1</td>\n",
       "      <td>60000.0</td>\n",
       "      <td>0</td>\n",
       "      <td>R6</td>\n",
       "    </tr>\n",
       "    <tr>\n",
       "      <th>4</th>\n",
       "      <td>301989276</td>\n",
       "      <td>BROOKLYN</td>\n",
       "      <td>10</td>\n",
       "      <td>A1</td>\n",
       "      <td>40000.0</td>\n",
       "      <td>0</td>\n",
       "      <td>C4-3</td>\n",
       "    </tr>\n",
       "  </tbody>\n",
       "</table>\n",
       "</div>"
      ],
      "text/plain": [
       "       Job #    Borough  Lot Job Type  Initial Cost  Proposed Zoning Sqft  \\\n",
       "1  140922893  MANHATTAN   43       A2       85000.0                     0   \n",
       "2  301773579   BROOKLYN   86       A1       60000.0                     0   \n",
       "4  301989276   BROOKLYN   10       A1       40000.0                     0   \n",
       "\n",
       "  Zoning Dist1  \n",
       "1          R8B  \n",
       "2           R6  \n",
       "4         C4-3  "
      ]
     },
     "execution_count": 7,
     "metadata": {},
     "output_type": "execute_result"
    }
   ],
   "source": [
    "df_dt = wrangle(r\"C:\\Users\\sanus\\Desktop\\DS\\web\\apartment_cost_list.csv\")\n",
    "print(df_dt.info())\n",
    "df_dt.head(3)"
   ]
  },
  {
   "cell_type": "markdown",
   "id": "9499ce4e",
   "metadata": {},
   "source": [
    "# Split data"
   ]
  },
  {
   "cell_type": "code",
   "execution_count": 8,
   "id": "75020e7e",
   "metadata": {},
   "outputs": [],
   "source": [
    "target = \"Initial Cost\"\n",
    "features = [\"Borough\"]\n",
    "y_train = df_dt[target]\n",
    "X_train = df_dt[features]"
   ]
  },
  {
   "cell_type": "code",
   "execution_count": 9,
   "id": "3422a67b",
   "metadata": {},
   "outputs": [],
   "source": [
    "# Check your work\n",
    "assert X_train.shape == (14823, 1), f\"`X_train` is the wrong size: {X_train.shape}.\"\n",
    "assert y_train.shape == (14823,), f\"`y_train` is the wrong size: {y_train.shape}.\""
   ]
  },
  {
   "cell_type": "markdown",
   "id": "a35f744a",
   "metadata": {},
   "source": [
    "# Build Model¶\n",
    "# Baseline"
   ]
  },
  {
   "cell_type": "code",
   "execution_count": 11,
   "id": "92673ef6",
   "metadata": {},
   "outputs": [
    {
     "name": "stdout",
     "output_type": "stream",
     "text": [
      "Mean Initial Cost: 59641.907845915135\n",
      "Baseline MAE: 13246.892749315202\n"
     ]
    }
   ],
   "source": [
    "y_mean = y_train.mean()\n",
    "y_pred_baseline = [y_mean] * len(y_train)\n",
    "print(\"Mean Initial Cost:\", y_mean)\n",
    "\n",
    "print(\"Baseline MAE:\", mean_absolute_error(y_train, y_pred_baseline))"
   ]
  },
  {
   "cell_type": "markdown",
   "id": "d6ceb04d",
   "metadata": {},
   "source": [
    "# Iterate"
   ]
  },
  {
   "cell_type": "code",
   "execution_count": 12,
   "id": "5596d060",
   "metadata": {},
   "outputs": [
    {
     "data": {
      "text/plain": [
       "Pipeline(steps=[('onehotencoder',\n",
       "                 OneHotEncoder(cols=['Borough'], use_cat_names=True)),\n",
       "                ('ridge', Ridge())])"
      ]
     },
     "execution_count": 12,
     "metadata": {},
     "output_type": "execute_result"
    }
   ],
   "source": [
    "model = make_pipeline(\n",
    "    OneHotEncoder(use_cat_names=True),\n",
    "    #LinearRegression()\n",
    "    Ridge()\n",
    "    \n",
    ")\n",
    "model.fit(X_train, y_train)"
   ]
  },
  {
   "cell_type": "code",
   "execution_count": 13,
   "id": "a3101f2b",
   "metadata": {},
   "outputs": [],
   "source": [
    "# Check your work\n",
    "check_is_fitted(model[-1])"
   ]
  },
  {
   "cell_type": "markdown",
   "id": "b1d45afe",
   "metadata": {},
   "source": [
    "# Evaluate"
   ]
  },
  {
   "cell_type": "code",
   "execution_count": 15,
   "id": "fd82e397",
   "metadata": {},
   "outputs": [
    {
     "data": {
      "text/plain": [
       "array([59459.37448918, 60075.75227323, 60075.75227323, 60075.75227323,\n",
       "       60075.75227323])"
      ]
     },
     "execution_count": 15,
     "metadata": {},
     "output_type": "execute_result"
    }
   ],
   "source": [
    "y_pred_training = model.predict(X_train)\n",
    "y_pred_training[:5]"
   ]
  },
  {
   "cell_type": "code",
   "execution_count": 14,
   "id": "95377cfa",
   "metadata": {
    "scrolled": true
   },
   "outputs": [
    {
     "name": "stdout",
     "output_type": "stream",
     "text": [
      "Training MAE: 13291.5\n"
     ]
    }
   ],
   "source": [
    "y_pred_training = model.predict(X_train)\n",
    "mae_training = mean_absolute_error(y_train, y_pred_training)\n",
    "print(\"Training MAE:\", round(mae_training, 2))"
   ]
  },
  {
   "cell_type": "markdown",
   "id": "cf41caa9",
   "metadata": {},
   "source": [
    "# Communicate Results"
   ]
  },
  {
   "cell_type": "code",
   "execution_count": 16,
   "id": "ef1f173d",
   "metadata": {},
   "outputs": [
    {
     "name": "stdout",
     "output_type": "stream",
     "text": [
      "coefficients len: 5\n",
      "[-1165.88564775  -549.50786371  4428.65541289 -2188.97330824\n",
      "  -524.28859321]\n"
     ]
    }
   ],
   "source": [
    "intercept = model.named_steps[\"ridge\"].intercept_\n",
    "coefficients = model.named_steps[\"ridge\"].coef_\n",
    "print(\"coefficients len:\", len(coefficients))\n",
    "print(coefficients[:5])  # First five coefficien"
   ]
  },
  {
   "cell_type": "code",
   "execution_count": 17,
   "id": "89c7ad9e",
   "metadata": {},
   "outputs": [],
   "source": [
    "# Check your work\n",
    "assert isinstance(\n",
    "    intercept, float\n",
    "), f\"`intercept` should be a `float`, not {type(intercept)}.\"\n",
    "assert isinstance(\n",
    "    coefficients, np.ndarray\n",
    "), f\"`coefficients` should be a `float`, not {type(coefficients)}.\"\n",
    "assert coefficients.shape == (\n",
    "    5,\n",
    "), f\"`coefficients` is wrong shape: {coefficients.shape}.\""
   ]
  },
  {
   "cell_type": "code",
   "execution_count": 18,
   "id": "17b4a526",
   "metadata": {},
   "outputs": [
    {
     "name": "stdout",
     "output_type": "stream",
     "text": [
      "features len: 5\n",
      "['Borough_MANHATTAN', 'Borough_BROOKLYN', 'Borough_BRONX', 'Borough_QUEENS', 'Borough_STATEN ISLAND']\n"
     ]
    }
   ],
   "source": [
    "feature_names = model.named_steps[\"onehotencoder\"].get_feature_names() \n",
    "print(\"features len:\", len(feature_names))\n",
    "print(feature_names[:5])  # First five feature names"
   ]
  },
  {
   "cell_type": "code",
   "execution_count": 19,
   "id": "044f4e5b",
   "metadata": {},
   "outputs": [],
   "source": [
    "# Check your work\n",
    "assert isinstance(\n",
    "    feature_names, list\n",
    "), f\"`features` should be a `list`, not {type(features)}.\"\n",
    "assert len(feature_names) == len(\n",
    "    coefficients\n",
    "), \"You should have the same number of features and coefficients.\""
   ]
  },
  {
   "cell_type": "code",
   "execution_count": 20,
   "id": "bcbd38d8",
   "metadata": {},
   "outputs": [
    {
     "data": {
      "text/plain": [
       "Borough_MANHATTAN       -1165.885648\n",
       "Borough_BROOKLYN         -549.507864\n",
       "Borough_BRONX            4428.655413\n",
       "Borough_QUEENS          -2188.973308\n",
       "Borough_STATEN ISLAND    -524.288593\n",
       "dtype: float64"
      ]
     },
     "execution_count": 20,
     "metadata": {},
     "output_type": "execute_result"
    }
   ],
   "source": [
    "feat_imp = pd.Series(coefficients, index=feature_names)\n",
    "feat_imp.head()"
   ]
  },
  {
   "cell_type": "code",
   "execution_count": 21,
   "id": "df67cf76",
   "metadata": {},
   "outputs": [],
   "source": [
    "# Check your work\n",
    "assert isinstance(\n",
    "    feat_imp, pd.Series\n",
    "), f\"`feat_imp` should be a `float`, not {type(feat_imp)}.\"\n",
    "assert feat_imp.shape == (5,), f\"`feat_imp` is wrong shape: {feat_imp.shape}.\"\n",
    "assert all(\n",
    "    a == b for a, b in zip(sorted(feature_names), sorted(feat_imp.index))\n",
    "), \"The index of `feat_imp` should be identical to `features`.\""
   ]
  },
  {
   "cell_type": "code",
   "execution_count": 22,
   "id": "714e7708",
   "metadata": {},
   "outputs": [
    {
     "name": "stdout",
     "output_type": "stream",
     "text": [
      "Initial Cost = 60625.26\n",
      "+ (-1165.89 * Borough_MANHATTAN)\n",
      "+ (-549.51 * Borough_BROOKLYN)\n",
      "+ (4428.66 * Borough_BRONX)\n",
      "+ (-2188.97 * Borough_QUEENS)\n",
      "+ (-524.29 * Borough_STATEN ISLAND)\n"
     ]
    }
   ],
   "source": [
    "print(f\"Initial Cost = {intercept.round(2)}\")\n",
    "for f, c in feat_imp.items():\n",
    "    print(f\"+ ({round(c, 2)} * {f})\")"
   ]
  },
  {
   "cell_type": "code",
   "execution_count": 23,
   "id": "05f453a3",
   "metadata": {},
   "outputs": [
    {
     "data": {
      "image/png": "[encoded data removed]",
      "text/plain": [
       "<Figure size 640x480 with 1 Axes>"
      ]
     },
     "metadata": {},
     "output_type": "display_data"
    }
   ],
   "source": [
    "feat_imp.sort_values(key=abs).tail(15).plot(kind=\"barh\")\n",
    "plt.xlabel(\"Importance [USD]\")\n",
    "plt.ylabel(\"Feature\")\n",
    "plt.title(\"Feature Importance for Initial Cost\");"
   ]
  },
  {
   "cell_type": "markdown",
   "id": "3eab720e",
   "metadata": {},
   "source": [
    "Looking at this bar chart, we can see that the poshest Borough in New York like {BRONX} increase the predicted price of an apartment, while more working-class Borough like {STATEN ISLAND} and {QUEENS} decrease the predicted price\n",
    "\n"
   ]
  },
  {
   "cell_type": "code",
   "execution_count": null,
   "id": "f2cea35b",
   "metadata": {},
   "outputs": [],
   "source": []
  }
 ],
 "metadata": {
  "kernelspec": {
   "display_name": "Python 3 (ipykernel)",
   "language": "python",
   "name": "python3"
  },
  "language_info": {
   "codemirror_mode": {
    "name": "ipython",
    "version": 3
   },
   "file_extension": ".py",
   "mimetype": "text/x-python",
   "name": "python",
   "nbconvert_exporter": "python",
   "pygments_lexer": "ipython3",
   "version": "3.9.13"
  }
 },
 "nbformat": 4,
 "nbformat_minor": 5
}
