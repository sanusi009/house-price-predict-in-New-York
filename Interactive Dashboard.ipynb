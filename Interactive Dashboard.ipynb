{
 "cells": [
  {
   "cell_type": "code",
   "execution_count": 2,
   "id": "50cafc53",
   "metadata": {},
   "outputs": [
    {
     "name": "stdout",
     "output_type": "stream",
     "text": [
      "Collecting dashNote: you may need to restart the kernel to use updated packages.\n",
      "\n",
      "  Downloading dash-2.9.2-py3-none-any.whl (10.2 MB)\n",
      "     --------------------------------------- 10.2/10.2 MB 94.6 kB/s eta 0:00:00\n",
      "Requirement already satisfied: plotly>=5.0.0 in c:\\users\\sanus\\anaconda3\\lib\\site-packages (from dash) (5.9.0)\n",
      "Requirement already satisfied: Flask>=1.0.4 in c:\\users\\sanus\\anaconda3\\lib\\site-packages (from dash) (1.1.2)\n",
      "Collecting dash-table==5.0.0\n",
      "  Downloading dash_table-5.0.0-py3-none-any.whl (3.9 kB)\n",
      "Collecting dash-html-components==2.0.0\n",
      "  Downloading dash_html_components-2.0.0-py3-none-any.whl (4.1 kB)\n",
      "Collecting dash-core-components==2.0.0\n",
      "  Downloading dash_core_components-2.0.0-py3-none-any.whl (3.8 kB)\n",
      "Requirement already satisfied: Werkzeug>=0.15 in c:\\users\\sanus\\anaconda3\\lib\\site-packages (from Flask>=1.0.4->dash) (2.0.3)\n",
      "Requirement already satisfied: itsdangerous>=0.24 in c:\\users\\sanus\\anaconda3\\lib\\site-packages (from Flask>=1.0.4->dash) (2.0.1)\n",
      "Requirement already satisfied: click>=5.1 in c:\\users\\sanus\\anaconda3\\lib\\site-packages (from Flask>=1.0.4->dash) (8.0.4)\n",
      "Requirement already satisfied: Jinja2>=2.10.1 in c:\\users\\sanus\\anaconda3\\lib\\site-packages (from Flask>=1.0.4->dash) (2.11.3)\n",
      "Requirement already satisfied: tenacity>=6.2.0 in c:\\users\\sanus\\anaconda3\\lib\\site-packages (from plotly>=5.0.0->dash) (8.0.1)\n",
      "Requirement already satisfied: colorama in c:\\users\\sanus\\anaconda3\\lib\\site-packages (from click>=5.1->Flask>=1.0.4->dash) (0.4.5)\n",
      "Requirement already satisfied: MarkupSafe>=0.23 in c:\\users\\sanus\\anaconda3\\lib\\site-packages (from Jinja2>=2.10.1->Flask>=1.0.4->dash) (2.0.1)\n",
      "Installing collected packages: dash-table, dash-html-components, dash-core-components, dash\n",
      "Successfully installed dash-2.9.2 dash-core-components-2.0.0 dash-html-components-2.0.0 dash-table-5.0.0\n"
     ]
    }
   ],
   "source": [
    "pip install dash"
   ]
  },
  {
   "cell_type": "code",
   "execution_count": 4,
   "id": "999c24a3",
   "metadata": {},
   "outputs": [
    {
     "name": "stdout",
     "output_type": "stream",
     "text": [
      "Collecting jupyter_dash\n",
      "  Downloading jupyter_dash-0.4.2-py3-none-any.whl (23 kB)\n",
      "Requirement already satisfied: requests in c:\\users\\sanus\\anaconda3\\lib\\site-packages (from jupyter_dash) (2.28.1)\n",
      "Collecting ansi2html\n",
      "  Downloading ansi2html-1.8.0-py3-none-any.whl (16 kB)\n",
      "Requirement already satisfied: nest-asyncio in c:\\users\\sanus\\anaconda3\\lib\\site-packages (from jupyter_dash) (1.5.5)\n",
      "Requirement already satisfied: flask in c:\\users\\sanus\\anaconda3\\lib\\site-packages (from jupyter_dash) (1.1.2)\n",
      "Requirement already satisfied: ipython in c:\\users\\sanus\\anaconda3\\lib\\site-packages (from jupyter_dash) (8.12.0)\n",
      "Collecting retrying\n",
      "  Downloading retrying-1.3.4-py3-none-any.whl (11 kB)\n",
      "Requirement already satisfied: ipykernel in c:\\users\\sanus\\anaconda3\\lib\\site-packages (from jupyter_dash) (6.15.2)\n",
      "Requirement already satisfied: dash in c:\\users\\sanus\\anaconda3\\lib\\site-packages (from jupyter_dash) (2.9.2)\n",
      "Requirement already satisfied: dash-core-components==2.0.0 in c:\\users\\sanus\\anaconda3\\lib\\site-packages (from dash->jupyter_dash) (2.0.0)\n",
      "Requirement already satisfied: plotly>=5.0.0 in c:\\users\\sanus\\anaconda3\\lib\\site-packages (from dash->jupyter_dash) (5.9.0)\n",
      "Requirement already satisfied: dash-table==5.0.0 in c:\\users\\sanus\\anaconda3\\lib\\site-packages (from dash->jupyter_dash) (5.0.0)\n",
      "Requirement already satisfied: dash-html-components==2.0.0 in c:\\users\\sanus\\anaconda3\\lib\\site-packages (from dash->jupyter_dash) (2.0.0)\n",
      "Requirement already satisfied: Jinja2>=2.10.1 in c:\\users\\sanus\\anaconda3\\lib\\site-packages (from flask->jupyter_dash) (2.11.3)\n",
      "Requirement already satisfied: Werkzeug>=0.15 in c:\\users\\sanus\\anaconda3\\lib\\site-packages (from flask->jupyter_dash) (2.0.3)\n",
      "Requirement already satisfied: itsdangerous>=0.24 in c:\\users\\sanus\\anaconda3\\lib\\site-packages (from flask->jupyter_dash) (2.0.1)\n",
      "Requirement already satisfied: click>=5.1 in c:\\users\\sanus\\anaconda3\\lib\\site-packages (from flask->jupyter_dash) (8.0.4)\n",
      "Requirement already satisfied: debugpy>=1.0 in c:\\users\\sanus\\anaconda3\\lib\\site-packages (from ipykernel->jupyter_dash) (1.5.1)\n",
      "Requirement already satisfied: packaging in c:\\users\\sanus\\anaconda3\\lib\\site-packages (from ipykernel->jupyter_dash) (21.3)\n",
      "Requirement already satisfied: matplotlib-inline>=0.1 in c:\\users\\sanus\\anaconda3\\lib\\site-packages (from ipykernel->jupyter_dash) (0.1.6)\n",
      "Requirement already satisfied: tornado>=6.1 in c:\\users\\sanus\\anaconda3\\lib\\site-packages (from ipykernel->jupyter_dash) (6.1)\n",
      "Requirement already satisfied: traitlets>=5.1.0 in c:\\users\\sanus\\anaconda3\\lib\\site-packages (from ipykernel->jupyter_dash) (5.1.1)\n",
      "Requirement already satisfied: jupyter-client>=6.1.12 in c:\\users\\sanus\\anaconda3\\lib\\site-packages (from ipykernel->jupyter_dash) (7.3.4)\n",
      "Requirement already satisfied: pyzmq>=17 in c:\\users\\sanus\\anaconda3\\lib\\site-packages (from ipykernel->jupyter_dash) (23.2.0)\n",
      "Requirement already satisfied: psutil in c:\\users\\sanus\\anaconda3\\lib\\site-packages (from ipykernel->jupyter_dash) (5.9.0)\n",
      "Requirement already satisfied: backcall in c:\\users\\sanus\\anaconda3\\lib\\site-packages (from ipython->jupyter_dash) (0.2.0)\n",
      "Requirement already satisfied: pygments>=2.4.0 in c:\\users\\sanus\\anaconda3\\lib\\site-packages (from ipython->jupyter_dash) (2.11.2)\n",
      "Requirement already satisfied: jedi>=0.16 in c:\\users\\sanus\\anaconda3\\lib\\site-packages (from ipython->jupyter_dash) (0.18.1)\n",
      "Requirement already satisfied: prompt-toolkit!=3.0.37,<3.1.0,>=3.0.30 in c:\\users\\sanus\\anaconda3\\lib\\site-packages (from ipython->jupyter_dash) (3.0.38)\n",
      "Requirement already satisfied: decorator in c:\\users\\sanus\\anaconda3\\lib\\site-packages (from ipython->jupyter_dash) (5.1.1)\n",
      "Requirement already satisfied: pickleshare in c:\\users\\sanus\\anaconda3\\lib\\site-packages (from ipython->jupyter_dash) (0.7.5)\n",
      "Requirement already satisfied: stack-data in c:\\users\\sanus\\anaconda3\\lib\\site-packages (from ipython->jupyter_dash) (0.6.2)\n",
      "Requirement already satisfied: colorama in c:\\users\\sanus\\anaconda3\\lib\\site-packages (from ipython->jupyter_dash) (0.4.5)\n",
      "Requirement already satisfied: typing-extensions in c:\\users\\sanus\\anaconda3\\lib\\site-packages (from ipython->jupyter_dash) (4.3.0)\n",
      "Requirement already satisfied: idna<4,>=2.5 in c:\\users\\sanus\\anaconda3\\lib\\site-packages (from requests->jupyter_dash) (3.3)\n",
      "Requirement already satisfied: certifi>=2017.4.17 in c:\\users\\sanus\\anaconda3\\lib\\site-packages (from requests->jupyter_dash) (2022.9.14)\n",
      "Requirement already satisfied: charset-normalizer<3,>=2 in c:\\users\\sanus\\anaconda3\\lib\\site-packages (from requests->jupyter_dash) (2.0.4)\n",
      "Requirement already satisfied: urllib3<1.27,>=1.21.1 in c:\\users\\sanus\\anaconda3\\lib\\site-packages (from requests->jupyter_dash) (1.26.11)\n",
      "Requirement already satisfied: six>=1.7.0 in c:\\users\\sanus\\anaconda3\\lib\\site-packages (from retrying->jupyter_dash) (1.16.0)\n",
      "Requirement already satisfied: parso<0.9.0,>=0.8.0 in c:\\users\\sanus\\anaconda3\\lib\\site-packages (from jedi>=0.16->ipython->jupyter_dash) (0.8.3)\n",
      "Requirement already satisfied: MarkupSafe>=0.23 in c:\\users\\sanus\\anaconda3\\lib\\site-packages (from Jinja2>=2.10.1->flask->jupyter_dash) (2.0.1)\n",
      "Requirement already satisfied: entrypoints in c:\\users\\sanus\\anaconda3\\lib\\site-packages (from jupyter-client>=6.1.12->ipykernel->jupyter_dash) (0.4)\n",
      "Requirement already satisfied: jupyter-core>=4.9.2 in c:\\users\\sanus\\anaconda3\\lib\\site-packages (from jupyter-client>=6.1.12->ipykernel->jupyter_dash) (4.11.1)\n",
      "Requirement already satisfied: python-dateutil>=2.8.2 in c:\\users\\sanus\\anaconda3\\lib\\site-packages (from jupyter-client>=6.1.12->ipykernel->jupyter_dash) (2.8.2)\n",
      "Requirement already satisfied: tenacity>=6.2.0 in c:\\users\\sanus\\anaconda3\\lib\\site-packages (from plotly>=5.0.0->dash->jupyter_dash) (8.0.1)\n",
      "Requirement already satisfied: wcwidth in c:\\users\\sanus\\anaconda3\\lib\\site-packages (from prompt-toolkit!=3.0.37,<3.1.0,>=3.0.30->ipython->jupyter_dash) (0.2.5)\n",
      "Requirement already satisfied: pyparsing!=3.0.5,>=2.0.2 in c:\\users\\sanus\\anaconda3\\lib\\site-packages (from packaging->ipykernel->jupyter_dash) (3.0.9)\n",
      "Requirement already satisfied: asttokens>=2.1.0 in c:\\users\\sanus\\anaconda3\\lib\\site-packages (from stack-data->ipython->jupyter_dash) (2.2.1)\n",
      "Requirement already satisfied: executing>=1.2.0 in c:\\users\\sanus\\anaconda3\\lib\\site-packages (from stack-data->ipython->jupyter_dash) (1.2.0)\n",
      "Requirement already satisfied: pure-eval in c:\\users\\sanus\\anaconda3\\lib\\site-packages (from stack-data->ipython->jupyter_dash) (0.2.2)\n",
      "Requirement already satisfied: pywin32>=1.0 in c:\\users\\sanus\\anaconda3\\lib\\site-packages (from jupyter-core>=4.9.2->jupyter-client>=6.1.12->ipykernel->jupyter_dash) (302)\n",
      "Installing collected packages: retrying, ansi2html, jupyter_dash\n",
      "Successfully installed ansi2html-1.8.0 jupyter_dash-0.4.2 retrying-1.3.4\n",
      "Note: you may need to restart the kernel to use updated packages.\n"
     ]
    }
   ],
   "source": [
    "pip install jupyter_dash"
   ]
  },
  {
   "cell_type": "code",
   "execution_count": 55,
   "id": "e98411a1",
   "metadata": {},
   "outputs": [],
   "source": [
    "import pandas as pd\n",
    "import plotly.express as px\n",
    "from dash import Input, Output, dcc, html\n",
    "from jupyter_dash import JupyterDash\n",
    "from scipy.stats.mstats import trimmed_var\n",
    "from sklearn.cluster import KMeans\n",
    "from sklearn.decomposition import PCA\n",
    "from sklearn.metrics import silhouette_score\n",
    "from sklearn.pipeline import make_pipeline\n",
    "from sklearn.preprocessing import StandardScaler\n",
    "\n",
    "JupyterDash.infer_jupyter_proxy_config()"
   ]
  },
  {
   "cell_type": "markdown",
   "id": "c44e1966",
   "metadata": {},
   "source": [
    "n the last lesson, we built a model based on the highest-variance features in our dataset and created several visualizations to communicate our results. In this lesson, we're going to combine all of these elements into a dynamic web application that will allow users to choose their own features, build a model, and evaluate its performance through a graphic user interface. In other words, you'll create a tool that will allow anyone to build a model without code."
   ]
  },
  {
   "cell_type": "markdown",
   "id": "db62974f",
   "metadata": {},
   "source": [
    "# Prepare Data"
   ]
  },
  {
   "cell_type": "code",
   "execution_count": 56,
   "id": "9d87791d",
   "metadata": {},
   "outputs": [],
   "source": [
    "def wrangle(filepath):\n",
    "\n",
    "    \"\"\"Read SCF data file into ``DataFrame``.\n",
    "\n",
    "    Returns only credit fearful households whose net worth is less than $2 million.\n",
    "\n",
    "    Parameters\n",
    "    ----------\n",
    "    filepath : str\n",
    "        Location of CSV file.\n",
    "    \"\"\"\n",
    "    # Read CSV file\n",
    "    df = pd.read_csv(filepath)\n",
    "    \n",
    "     # Remove NAN Value\n",
    "    df.dropna(inplace=True)\n",
    "    \n",
    "     # Drop features with high null counts\n",
    "    df.drop(columns=[\"ocean_proximity\"], inplace=True)\n",
    "    \n",
    "    return df"
   ]
  },
  {
   "cell_type": "code",
   "execution_count": 57,
   "id": "e2ff36ad",
   "metadata": {},
   "outputs": [],
   "source": [
    "wrangle?"
   ]
  },
  {
   "cell_type": "code",
   "execution_count": 58,
   "id": "fdf109ba",
   "metadata": {},
   "outputs": [
    {
     "name": "stdout",
     "output_type": "stream",
     "text": [
      "<class 'pandas.core.frame.DataFrame'>\n",
      "Int64Index: 20433 entries, 0 to 20639\n",
      "Data columns (total 9 columns):\n",
      " #   Column              Non-Null Count  Dtype  \n",
      "---  ------              --------------  -----  \n",
      " 0   longitude           20433 non-null  float64\n",
      " 1   latitude            20433 non-null  float64\n",
      " 2   housing_median_age  20433 non-null  float64\n",
      " 3   total_rooms         20433 non-null  float64\n",
      " 4   total_bedrooms      20433 non-null  float64\n",
      " 5   population          20433 non-null  float64\n",
      " 6   households          20433 non-null  float64\n",
      " 7   median_income       20433 non-null  float64\n",
      " 8   median_house_value  20433 non-null  float64\n",
      "dtypes: float64(9)\n",
      "memory usage: 1.6 MB\n",
      "None\n"
     ]
    },
    {
     "data": {
      "text/html": [
       "<div>\n",
       "<style scoped>\n",
       "    .dataframe tbody tr th:only-of-type {\n",
       "        vertical-align: middle;\n",
       "    }\n",
       "\n",
       "    .dataframe tbody tr th {\n",
       "        vertical-align: top;\n",
       "    }\n",
       "\n",
       "    .dataframe thead th {\n",
       "        text-align: right;\n",
       "    }\n",
       "</style>\n",
       "<table border=\"1\" class=\"dataframe\">\n",
       "  <thead>\n",
       "    <tr style=\"text-align: right;\">\n",
       "      <th></th>\n",
       "      <th>longitude</th>\n",
       "      <th>latitude</th>\n",
       "      <th>housing_median_age</th>\n",
       "      <th>total_rooms</th>\n",
       "      <th>total_bedrooms</th>\n",
       "      <th>population</th>\n",
       "      <th>households</th>\n",
       "      <th>median_income</th>\n",
       "      <th>median_house_value</th>\n",
       "    </tr>\n",
       "  </thead>\n",
       "  <tbody>\n",
       "    <tr>\n",
       "      <th>0</th>\n",
       "      <td>-122.23</td>\n",
       "      <td>37.88</td>\n",
       "      <td>41.0</td>\n",
       "      <td>880.0</td>\n",
       "      <td>129.0</td>\n",
       "      <td>322.0</td>\n",
       "      <td>126.0</td>\n",
       "      <td>8.3252</td>\n",
       "      <td>452600.0</td>\n",
       "    </tr>\n",
       "    <tr>\n",
       "      <th>1</th>\n",
       "      <td>-122.22</td>\n",
       "      <td>37.86</td>\n",
       "      <td>21.0</td>\n",
       "      <td>7099.0</td>\n",
       "      <td>1106.0</td>\n",
       "      <td>2401.0</td>\n",
       "      <td>1138.0</td>\n",
       "      <td>8.3014</td>\n",
       "      <td>358500.0</td>\n",
       "    </tr>\n",
       "    <tr>\n",
       "      <th>2</th>\n",
       "      <td>-122.24</td>\n",
       "      <td>37.85</td>\n",
       "      <td>52.0</td>\n",
       "      <td>1467.0</td>\n",
       "      <td>190.0</td>\n",
       "      <td>496.0</td>\n",
       "      <td>177.0</td>\n",
       "      <td>7.2574</td>\n",
       "      <td>352100.0</td>\n",
       "    </tr>\n",
       "    <tr>\n",
       "      <th>3</th>\n",
       "      <td>-122.25</td>\n",
       "      <td>37.85</td>\n",
       "      <td>52.0</td>\n",
       "      <td>1274.0</td>\n",
       "      <td>235.0</td>\n",
       "      <td>558.0</td>\n",
       "      <td>219.0</td>\n",
       "      <td>5.6431</td>\n",
       "      <td>341300.0</td>\n",
       "    </tr>\n",
       "    <tr>\n",
       "      <th>4</th>\n",
       "      <td>-122.25</td>\n",
       "      <td>37.85</td>\n",
       "      <td>52.0</td>\n",
       "      <td>1627.0</td>\n",
       "      <td>280.0</td>\n",
       "      <td>565.0</td>\n",
       "      <td>259.0</td>\n",
       "      <td>3.8462</td>\n",
       "      <td>342200.0</td>\n",
       "    </tr>\n",
       "  </tbody>\n",
       "</table>\n",
       "</div>"
      ],
      "text/plain": [
       "   longitude  latitude  housing_median_age  total_rooms  total_bedrooms  \\\n",
       "0    -122.23     37.88                41.0        880.0           129.0   \n",
       "1    -122.22     37.86                21.0       7099.0          1106.0   \n",
       "2    -122.24     37.85                52.0       1467.0           190.0   \n",
       "3    -122.25     37.85                52.0       1274.0           235.0   \n",
       "4    -122.25     37.85                52.0       1627.0           280.0   \n",
       "\n",
       "   population  households  median_income  median_house_value  \n",
       "0       322.0       126.0         8.3252            452600.0  \n",
       "1      2401.0      1138.0         8.3014            358500.0  \n",
       "2       496.0       177.0         7.2574            352100.0  \n",
       "3       558.0       219.0         5.6431            341300.0  \n",
       "4       565.0       259.0         3.8462            342200.0  "
      ]
     },
     "execution_count": 58,
     "metadata": {},
     "output_type": "execute_result"
    }
   ],
   "source": [
    "df = wrangle(r\"C:\\Users\\sanus\\Desktop\\DS\\web\\housing.csv\")\n",
    "print(df.info())\n",
    "df.head()"
   ]
  },
  {
   "cell_type": "markdown",
   "id": "55d31a18",
   "metadata": {},
   "source": [
    "# Application Layout"
   ]
  },
  {
   "cell_type": "code",
   "execution_count": 74,
   "id": "fcb6a781",
   "metadata": {},
   "outputs": [],
   "source": [
    "# Instantiate a JupyterDash application and assign it to the variable name app\n",
    "app = JupyterDash(__name__)"
   ]
  },
  {
   "cell_type": "code",
   "execution_count": 89,
   "id": "5730e012",
   "metadata": {},
   "outputs": [],
   "source": [
    "app.layout = html.Div(\n",
    "    [\n",
    "        # Application title\n",
    "        html.H1(\"Survey of House price\"),\n",
    "        # Bar chart element\n",
    "        html.H2(\"High Variance Features\"),\n",
    "        # Bar chart graph\n",
    "        dcc.Graph(id=\"bar-chart\"),\n",
    "        dcc.RadioItems(\n",
    "            options=[\n",
    "                {\"label\": \"trimmed\", \"value\": True},\n",
    "                {\"label\": \"not trimmed\", \"value\": False}\n",
    "            ],\n",
    "            value=True,\n",
    "            id=\"trim-button\"\n",
    "        ),\n",
    "        html.H2(\"K-means Clustering\"),\n",
    "        html.H3(\"Number of Clusters (k)\"),\n",
    "        dcc.Slider(min=2, max=12, step=1, value=2, id=\"k-slider\"),\n",
    "        html.Div(id=\"metrics\"),\n",
    "        # PCA scatter plot\n",
    "        dcc.Graph(id=\"pca-scatter\")\n",
    "    ]\n",
    ")"
   ]
  },
  {
   "cell_type": "markdown",
   "id": "59ccb113",
   "metadata": {},
   "source": [
    "Create a get_high_var_features function that returns the five highest-variance features in a DataFrame. Use the docstring for guidance"
   ]
  },
  {
   "cell_type": "code",
   "execution_count": null,
   "id": "3fdc781a",
   "metadata": {},
   "outputs": [],
   "source": []
  },
  {
   "cell_type": "code",
   "execution_count": 75,
   "id": "3b2895e8",
   "metadata": {},
   "outputs": [],
   "source": [
    "def get_high_var_features(trimmed=True, return_feat_names=True):\n",
    "\n",
    "    \"\"\"Returns the five highest-variance features of ``df``.\n",
    "\n",
    "    Parameters\n",
    "    ----------\n",
    "    trimmed : bool, default=True\n",
    "        If ``True``, calculates trimmed variance, removing bottom and top 10%\n",
    "        of observations.\n",
    "\n",
    "    return_feat_names : bool, default=False\n",
    "        If ``True``, returns feature names as a ``list``. If ``False``\n",
    "        returns ``Series``, where index is feature names and values are\n",
    "        variances.\n",
    "    \"\"\"\n",
    "    # calculate variance\n",
    "    if trimmed:\n",
    "        top_ten_var_features= (\n",
    "            df.apply(trimmed_var).sort_values().tail(10)\n",
    "        )\n",
    "    else:\n",
    "        top_ten_var_features = df.var().sort_values().tail(10)\n",
    "    # Extract names\n",
    "    if return_feat_names:\n",
    "        top_ten_var_features = top_ten_var_features.index.tolist()\n",
    "    \n",
    "    return  top_ten_var_features"
   ]
  },
  {
   "cell_type": "code",
   "execution_count": 76,
   "id": "94fa0cc6",
   "metadata": {},
   "outputs": [
    {
     "data": {
      "text/plain": [
       "median_income         1.191597e+00\n",
       "longitude             2.887484e+00\n",
       "latitude              3.041485e+00\n",
       "housing_median_age    8.272390e+01\n",
       "households            2.873237e+04\n",
       "total_bedrooms        3.410124e+04\n",
       "population            2.422167e+05\n",
       "total_rooms           7.997655e+05\n",
       "median_house_value    5.550559e+09\n",
       "dtype: float64"
      ]
     },
     "execution_count": 76,
     "metadata": {},
     "output_type": "execute_result"
    }
   ],
   "source": [
    "get_high_var_features(trimmed=True, return_feat_names=False)"
   ]
  },
  {
   "cell_type": "markdown",
   "id": "82c831c9",
   "metadata": {},
   "source": [
    "Create a serve_bar_chart function that returns a plotly express bar chart of the five highest-variance features. You should use get_high_var_features as a helper function. Follow the docstring for guidance."
   ]
  },
  {
   "cell_type": "code",
   "execution_count": 77,
   "id": "30121a7a",
   "metadata": {},
   "outputs": [],
   "source": [
    "@app.callback(\n",
    "    Output(\"bar-chart\", \"figure\"), Input(\"trim-button\", \"value\")\n",
    ")\n",
    "def serve_bar_chart(trimmed=True):\n",
    "\n",
    "    \"\"\"Returns a horizontal bar chart of five highest-variance features.\n",
    "\n",
    "    Parameters\n",
    "    ----------\n",
    "    trimmed : bool, default=True\n",
    "        If ``True``, calculates trimmed variance, removing bottom and top 10%\n",
    "        of observations.\n",
    "    \"\"\"\n",
    "    # Get features\n",
    "    top_ten_features = get_high_var_features(trimmed=trimmed, return_feat_names=False)\n",
    "    \n",
    "    # Build bar chart\n",
    "    fig = px.bar(x=top_ten_features, y=top_ten_features.index, orientation=\"h\")\n",
    "    fig.update_layout(xaxis_title=\"Variance\", yaxis_title=\"Features\")\n",
    "    \n",
    "    return fig"
   ]
  },
  {
   "cell_type": "markdown",
   "id": "ef4a6513",
   "metadata": {},
   "source": [
    "Create a get_model_metrics function that builds, trains, and evaluates KMeans model. Use the docstring for guidance. Note that, like the model you made in the last lesson, your model here should be a pipeline that includes a StandardScaler. Once you're done, submit your function to the grader."
   ]
  },
  {
   "cell_type": "code",
   "execution_count": 80,
   "id": "5b9918b1",
   "metadata": {},
   "outputs": [],
   "source": [
    "def get_model_metrics(trimmed=True, k=2, return_metrics=False):\n",
    "\n",
    "    \"\"\"Build ``KMeans`` model based on five highest-variance features in ``df``.\n",
    "\n",
    "    Parameters\n",
    "    ----------\n",
    "    trimmed : bool, default=True\n",
    "        If ``True``, calculates trimmed variance, removing bottom and top 10%\n",
    "        of observations.\n",
    "\n",
    "    k : int, default=2\n",
    "        Number of clusters.\n",
    "\n",
    "    return_metrics : bool, default=False\n",
    "        If ``False`` returns ``KMeans`` model. If ``True`` returns ``dict``\n",
    "        with inertia and silhouette score.\n",
    "\n",
    "    \"\"\"\n",
    "    # Get high var features\n",
    "    features = get_high_var_features(trimmed=trimmed, return_feat_names=True)\n",
    "    # Create feature matrix\n",
    "    X = df[features]\n",
    "    # Build model\n",
    "    model = make_pipeline(StandardScaler(), KMeans(n_clusters=k, random_state=42))\n",
    "    model.fit(X)\n",
    "    if return_metrics:\n",
    "        # calculate inertia\n",
    "        i = model.named_steps[\"kmeans\"].inertia_\n",
    "        # calculate silhouette score\n",
    "        ss = silhouette_score(X, model.named_steps[\"kmeans\"].labels_)\n",
    "        # put results into dictionary\n",
    "        metrics = {\n",
    "            \"inertia\": round(i),\n",
    "            \"silhouette\": round(ss, 3)\n",
    "        }\n",
    "        # return dictionary to user\n",
    "        return metrics\n",
    "    \n",
    "    return model"
   ]
  },
  {
   "cell_type": "code",
   "execution_count": 81,
   "id": "5a7a85a7",
   "metadata": {},
   "outputs": [
    {
     "data": {
      "text/plain": [
       "Pipeline(steps=[('standardscaler', StandardScaler()),\n",
       "                ('kmeans', KMeans(n_clusters=20, random_state=42))])"
      ]
     },
     "execution_count": 81,
     "metadata": {},
     "output_type": "execute_result"
    }
   ],
   "source": [
    "get_model_metrics(trimmed=True, k=20, return_metrics=False)"
   ]
  },
  {
   "cell_type": "markdown",
   "id": "85c50b86",
   "metadata": {},
   "source": [
    "Part of what we want people to be able to do with the dashboard is see how the model's inertia and silhouette score when they move the slider around, so let's calculate those numbers..."
   ]
  },
  {
   "cell_type": "code",
   "execution_count": 82,
   "id": "2e2eb3cd",
   "metadata": {},
   "outputs": [],
   "source": [
    "@app.callback(\n",
    "    Output(\"metrics\", \"children\"),\n",
    "    Input(\"trim-button\", \"value\"),\n",
    "    Input(\"k-slider\", \"value\")\n",
    "    \n",
    ")\n",
    "def serve_metrics(trimmed=True, k=2):\n",
    "\n",
    "    \"\"\"Returns list of ``H3`` elements containing inertia and silhouette score\n",
    "    for ``KMeans`` model.\n",
    "\n",
    "    Parameters\n",
    "    ----------\n",
    "    trimmed : bool, default=True\n",
    "        If ``True``, calculates trimmed variance, removing bottom and top 10%\n",
    "        of observations.\n",
    "\n",
    "    k : int, default=2\n",
    "        Number of clusters.\n",
    "    \"\"\"\n",
    "    # Get metrics\n",
    "    metrics = get_model_metrics(trimmed=trimmed, k=k, return_metrics=True)\n",
    "    \n",
    "    # Add metrics to HTML elements\n",
    "    text = [\n",
    "        html.H3(f\"Inertia: {metrics['inertia']}\"),\n",
    "        html.H3(f\"Silhouette Score: {metrics['silhouette']}\")\n",
    "    ]\n",
    "    \n",
    "    return text"
   ]
  },
  {
   "cell_type": "code",
   "execution_count": 65,
   "id": "2723ccbc",
   "metadata": {},
   "outputs": [
    {
     "data": {
      "text/plain": [
       "[H3('Inertia: 40669'), H3('Silhouette Score: -0.249')]"
      ]
     },
     "execution_count": 65,
     "metadata": {},
     "output_type": "execute_result"
    }
   ],
   "source": [
    " serve_metrics(k=20)"
   ]
  },
  {
   "cell_type": "markdown",
   "id": "ef8312dc",
   "metadata": {},
   "source": [
    "# PCA Scatter Plot"
   ]
  },
  {
   "cell_type": "markdown",
   "id": "69123b1f",
   "metadata": {},
   "source": [
    "We just made a slider that can change the inertia and silhouette scores, but not everyone will be able to understand what those changing numbers mean. Let's make a scatter plot to help them along.Add a Graph object to your application's layout. Be sure to give it the id \"pca-scatter\".\n",
    "\n",
    "Just like with the bar chart, we need to get the five highest-variance features of the data, so let's start with that."
   ]
  },
  {
   "cell_type": "markdown",
   "id": "d0bd4649",
   "metadata": {},
   "source": [
    "Create a function get_pca_labels that subsets a DataFrame to its five highest-variance features, reduces those features to two dimensions using PCA, and returns a new DataFrame with three columns: \"PC1\", \"PC2\", and \"labels\". This last column should be the labels determined by a KMeans model. Your function should you get_high_var_features and get_model_metrics as helpers. Refer to the docstring for guidance."
   ]
  },
  {
   "cell_type": "code",
   "execution_count": 85,
   "id": "722d4919",
   "metadata": {},
   "outputs": [],
   "source": [
    "def get_pca_labels(trimmed=True, k=2):\n",
    "\n",
    "    \"\"\"\n",
    "    ``KMeans`` labels.\n",
    "\n",
    "    Parameters\n",
    "    ----------\n",
    "    trimmed : bool, default=True\n",
    "        If ``True``, calculates trimmed variance, removing bottom and top 10%\n",
    "        of observations.\n",
    "\n",
    "    k : int, default=2\n",
    "        Number of clusters.\n",
    "    \"\"\"\n",
    "    # Create feature matrix\n",
    "    features = get_high_var_features(trimmed=trimmed, return_feat_names=True)\n",
    "    X = df[features]\n",
    "\n",
    "    # Build transformer\n",
    "    transformer = PCA(n_components=2, random_state=42)\n",
    "\n",
    "    # Transform data\n",
    "    X_t = transformer.fit_transform(X)\n",
    "    X_pca = pd.DataFrame(X_t, columns=[\"PC1\", \"PC2\"])\n",
    "    \n",
    "    # Add labels\n",
    "    model = get_model_metrics(trimmed=trimmed, k=k, return_metrics=False)\n",
    "    X_pca[\"labels\"] = model.named_steps[\"kmeans\"].labels_.astype(str)\n",
    "    X_pca.sort_values(\"labels\", inplace=True)\n",
    "    \n",
    "    return X_pca"
   ]
  },
  {
   "cell_type": "code",
   "execution_count": 86,
   "id": "1443de16",
   "metadata": {},
   "outputs": [
    {
     "data": {
      "text/html": [
       "<div>\n",
       "<style scoped>\n",
       "    .dataframe tbody tr th:only-of-type {\n",
       "        vertical-align: middle;\n",
       "    }\n",
       "\n",
       "    .dataframe tbody tr th {\n",
       "        vertical-align: top;\n",
       "    }\n",
       "\n",
       "    .dataframe thead th {\n",
       "        text-align: right;\n",
       "    }\n",
       "</style>\n",
       "<table border=\"1\" class=\"dataframe\">\n",
       "  <thead>\n",
       "    <tr style=\"text-align: right;\">\n",
       "      <th></th>\n",
       "      <th>PC1</th>\n",
       "      <th>PC2</th>\n",
       "      <th>labels</th>\n",
       "    </tr>\n",
       "  </thead>\n",
       "  <tbody>\n",
       "    <tr>\n",
       "      <th>0</th>\n",
       "      <td>245730.472035</td>\n",
       "      <td>-2666.830649</td>\n",
       "      <td>0</td>\n",
       "    </tr>\n",
       "    <tr>\n",
       "      <th>13266</th>\n",
       "      <td>-88065.269798</td>\n",
       "      <td>-380.861344</td>\n",
       "      <td>0</td>\n",
       "    </tr>\n",
       "    <tr>\n",
       "      <th>13265</th>\n",
       "      <td>-86464.821651</td>\n",
       "      <td>109.959228</td>\n",
       "      <td>0</td>\n",
       "    </tr>\n",
       "    <tr>\n",
       "      <th>13264</th>\n",
       "      <td>-106068.780241</td>\n",
       "      <td>-1812.682069</td>\n",
       "      <td>0</td>\n",
       "    </tr>\n",
       "    <tr>\n",
       "      <th>13248</th>\n",
       "      <td>108130.539051</td>\n",
       "      <td>-2612.134732</td>\n",
       "      <td>0</td>\n",
       "    </tr>\n",
       "    <tr>\n",
       "      <th>...</th>\n",
       "      <td>...</td>\n",
       "      <td>...</td>\n",
       "      <td>...</td>\n",
       "    </tr>\n",
       "    <tr>\n",
       "      <th>15055</th>\n",
       "      <td>101465.804300</td>\n",
       "      <td>13386.697300</td>\n",
       "      <td>1</td>\n",
       "    </tr>\n",
       "    <tr>\n",
       "      <th>15057</th>\n",
       "      <td>87243.495908</td>\n",
       "      <td>2982.457736</td>\n",
       "      <td>1</td>\n",
       "    </tr>\n",
       "    <tr>\n",
       "      <th>15059</th>\n",
       "      <td>74744.512626</td>\n",
       "      <td>3547.153834</td>\n",
       "      <td>1</td>\n",
       "    </tr>\n",
       "    <tr>\n",
       "      <th>15061</th>\n",
       "      <td>31842.987579</td>\n",
       "      <td>3193.338478</td>\n",
       "      <td>1</td>\n",
       "    </tr>\n",
       "    <tr>\n",
       "      <th>10216</th>\n",
       "      <td>158454.630792</td>\n",
       "      <td>7954.010050</td>\n",
       "      <td>1</td>\n",
       "    </tr>\n",
       "  </tbody>\n",
       "</table>\n",
       "<p>20433 rows × 3 columns</p>\n",
       "</div>"
      ],
      "text/plain": [
       "                 PC1           PC2 labels\n",
       "0      245730.472035  -2666.830649      0\n",
       "13266  -88065.269798   -380.861344      0\n",
       "13265  -86464.821651    109.959228      0\n",
       "13264 -106068.780241  -1812.682069      0\n",
       "13248  108130.539051  -2612.134732      0\n",
       "...              ...           ...    ...\n",
       "15055  101465.804300  13386.697300      1\n",
       "15057   87243.495908   2982.457736      1\n",
       "15059   74744.512626   3547.153834      1\n",
       "15061   31842.987579   3193.338478      1\n",
       "10216  158454.630792   7954.010050      1\n",
       "\n",
       "[20433 rows x 3 columns]"
      ]
     },
     "execution_count": 86,
     "metadata": {},
     "output_type": "execute_result"
    }
   ],
   "source": [
    "get_pca_labels(trimmed=True, k=2)"
   ]
  },
  {
   "cell_type": "markdown",
   "id": "a6d181e7",
   "metadata": {},
   "source": [
    "Create a function serve_scatter_plot that creates a 2D scatter plot of the data used to train a KMeans model, along with color-coded clusters. Use get_pca_labels as a helper. Refer to the docstring for guidance."
   ]
  },
  {
   "cell_type": "code",
   "execution_count": 87,
   "id": "d9241d51",
   "metadata": {},
   "outputs": [],
   "source": [
    "@app.callback(\n",
    "    Output(\"pca-scatter\", \"figure\"),\n",
    "    Input(\"trim-button\", \"value\"),\n",
    "    Input(\"k-slider\", \"value\")    \n",
    ")\n",
    "def serve_scatter_plot(trimmed=True, k=2):\n",
    "\n",
    "    \"\"\"Build 2D scatter plot of ``df`` with ``KMeans`` labels.\n",
    "\n",
    "    Parameters\n",
    "    ----------\n",
    "    trimmed : bool, default=True\n",
    "        If ``True``, calculates trimmed variance, removing bottom and top 10%\n",
    "        of observations.\n",
    "\n",
    "    k : int, default=2\n",
    "        Number of clusters.\n",
    "    \"\"\"\n",
    "    fig = px.scatter(\n",
    "        data_frame=get_pca_labels(trimmed=trimmed, k=k), \n",
    "        x=\"PC1\", \n",
    "        y=\"PC2\", \n",
    "        color=\"labels\", \n",
    "        title=\"PCA Representation of Cluster\"\n",
    "    )\n",
    "    fig.update_layout(xaxis_title=\"PC1\", yaxis_title=\"PC2\")\n",
    "    \n",
    "    return fig"
   ]
  },
  {
   "cell_type": "markdown",
   "id": "f369405e",
   "metadata": {},
   "source": [
    "Start building the layout of your app by creating a Div object that has two child objects: an H1 header that reads \"Survey of Consumer Finances\" and an H2 header that reads \"High Variance Features\""
   ]
  },
  {
   "cell_type": "code",
   "execution_count": 90,
   "id": "0de93acb",
   "metadata": {},
   "outputs": [
    {
     "name": "stdout",
     "output_type": "stream",
     "text": [
      "Dash is running on http://localhost:8050/\n",
      "\n"
     ]
    },
    {
     "data": {
      "text/html": [
       "\n",
       "        <iframe\n",
       "            width=\"100%\"\n",
       "            height=\"650\"\n",
       "            src=\"http://localhost:8050/\"\n",
       "            frameborder=\"0\"\n",
       "            allowfullscreen\n",
       "            \n",
       "        ></iframe>\n",
       "        "
      ],
      "text/plain": [
       "<IPython.lib.display.IFrame at 0x2a90f39e8b0>"
      ]
     },
     "metadata": {},
     "output_type": "display_data"
    }
   ],
   "source": [
    "app.run_server(mode=\"inline\", host = \"localhost\")"
   ]
  },
  {
   "cell_type": "code",
   "execution_count": null,
   "id": "4d6c27bf",
   "metadata": {},
   "outputs": [],
   "source": []
  }
 ],
 "metadata": {
  "kernelspec": {
   "display_name": "Python 3 (ipykernel)",
   "language": "python",
   "name": "python3"
  },
  "language_info": {
   "codemirror_mode": {
    "name": "ipython",
    "version": 3
   },
   "file_extension": ".py",
   "mimetype": "text/x-python",
   "name": "python",
   "nbconvert_exporter": "python",
   "pygments_lexer": "ipython3",
   "version": "3.9.13"
  }
 },
 "nbformat": 4,
 "nbformat_minor": 5
}
