{
 "cells": [
  {
   "cell_type": "code",
   "execution_count": 4,
   "id": "4f6404dc",
   "metadata": {},
   "outputs": [],
   "source": [
    "# Import libraries here\n",
    "import warnings\n",
    "\n",
    "import numpy as np \n",
    "import pandas as pd \n",
    "import matplotlib.pyplot as plt\n",
    "import plotly.express as px\n",
    "from sklearn.linear_model import LinearRegression\n",
    "from sklearn.metrics import mean_absolute_error\n",
    "from sklearn.utils.validation import check_is_fitted\n",
    "import os\n",
    "for dirname, _, filenames in os.walk('/kaggle/input'):\n",
    "    for filename in filenames:\n",
    "        print(os.path.join(dirname, filename))\n",
    "        \n",
    "warnings.simplefilter(action=\"ignore\", category=FutureWarning)        "
   ]
  },
  {
   "cell_type": "code",
   "execution_count": 52,
   "id": "52ccf133",
   "metadata": {},
   "outputs": [],
   "source": [
    "def wrangle(filepath):\n",
    "     # Read CSV file into Dataframe\n",
    "    df_dt = pd.read_csv(filepath)\n",
    "    \n",
    "    # Drop features with high null counts\n",
    "    df_dt.drop(columns=[\"Curb Cut\", \"Horizontal Enlrgmt\", \"Vertical Enlrgmt\"], inplace=True)\n",
    "    \n",
    "    # Remove NAN Value\n",
    "    df_dt.dropna(inplace=True)\n",
    "    \n",
    "    # Transform 'Initial Cost from object to float\n",
    "    df_dt['Initial Cost'] = df_dt['Initial Cost'].apply(lambda x: float(x.replace('$','').replace(',','')))\n",
    "    \n",
    "    \n",
    "    return df_dt"
   ]
  },
  {
   "cell_type": "code",
   "execution_count": 53,
   "id": "79435c84",
   "metadata": {
    "scrolled": true
   },
   "outputs": [
    {
     "name": "stdout",
     "output_type": "stream",
     "text": [
      "<class 'pandas.core.frame.DataFrame'>\n",
      "Int64Index: 14823 entries, 1 to 19610\n",
      "Data columns (total 15 columns):\n",
      " #   Column                  Non-Null Count  Dtype  \n",
      "---  ------                  --------------  -----  \n",
      " 0   Job #                   14823 non-null  int64  \n",
      " 1   Borough                 14823 non-null  object \n",
      " 2   House #                 14823 non-null  object \n",
      " 3   Street Name             14823 non-null  object \n",
      " 4   Block                   14823 non-null  int64  \n",
      " 5   Lot                     14823 non-null  int64  \n",
      " 6   Bin #                   14823 non-null  int64  \n",
      " 7   Job Type                14823 non-null  object \n",
      " 8   Community - Board       14823 non-null  int64  \n",
      " 9   Fully Permitted         14823 non-null  object \n",
      " 10  Initial Cost            14823 non-null  float64\n",
      " 11  Proposed Zoning Sqft    14823 non-null  int64  \n",
      " 12  Enlargement SQ Footage  14823 non-null  int64  \n",
      " 13  Zoning Dist1            14823 non-null  object \n",
      " 14  Job Description         14823 non-null  object \n",
      "dtypes: float64(1), int64(7), object(7)\n",
      "memory usage: 1.8+ MB\n",
      "None\n"
     ]
    },
    {
     "data": {
      "text/html": [
       "<div>\n",
       "<style scoped>\n",
       "    .dataframe tbody tr th:only-of-type {\n",
       "        vertical-align: middle;\n",
       "    }\n",
       "\n",
       "    .dataframe tbody tr th {\n",
       "        vertical-align: top;\n",
       "    }\n",
       "\n",
       "    .dataframe thead th {\n",
       "        text-align: right;\n",
       "    }\n",
       "</style>\n",
       "<table border=\"1\" class=\"dataframe\">\n",
       "  <thead>\n",
       "    <tr style=\"text-align: right;\">\n",
       "      <th></th>\n",
       "      <th>Job #</th>\n",
       "      <th>Borough</th>\n",
       "      <th>House #</th>\n",
       "      <th>Street Name</th>\n",
       "      <th>Block</th>\n",
       "      <th>Lot</th>\n",
       "      <th>Bin #</th>\n",
       "      <th>Job Type</th>\n",
       "      <th>Community - Board</th>\n",
       "      <th>Fully Permitted</th>\n",
       "      <th>Initial Cost</th>\n",
       "      <th>Proposed Zoning Sqft</th>\n",
       "      <th>Enlargement SQ Footage</th>\n",
       "      <th>Zoning Dist1</th>\n",
       "      <th>Job Description</th>\n",
       "    </tr>\n",
       "  </thead>\n",
       "  <tbody>\n",
       "    <tr>\n",
       "      <th>1</th>\n",
       "      <td>140922893</td>\n",
       "      <td>MANHATTAN</td>\n",
       "      <td>160</td>\n",
       "      <td>E 89 ST</td>\n",
       "      <td>1517</td>\n",
       "      <td>43</td>\n",
       "      <td>1048094</td>\n",
       "      <td>A2</td>\n",
       "      <td>108</td>\n",
       "      <td>07/14/2020</td>\n",
       "      <td>85000.0</td>\n",
       "      <td>0</td>\n",
       "      <td>0</td>\n",
       "      <td>R8B</td>\n",
       "      <td>HEREBY FILING APPLICATION FOR THE INTERIOR REN...</td>\n",
       "    </tr>\n",
       "    <tr>\n",
       "      <th>2</th>\n",
       "      <td>301773579</td>\n",
       "      <td>BROOKLYN</td>\n",
       "      <td>65</td>\n",
       "      <td>GATES AVENUE</td>\n",
       "      <td>1962</td>\n",
       "      <td>86</td>\n",
       "      <td>3056039</td>\n",
       "      <td>A1</td>\n",
       "      <td>302</td>\n",
       "      <td>05/23/2007</td>\n",
       "      <td>60000.0</td>\n",
       "      <td>0</td>\n",
       "      <td>0</td>\n",
       "      <td>R6</td>\n",
       "      <td>Change existing four story and basement brick ...</td>\n",
       "    </tr>\n",
       "    <tr>\n",
       "      <th>4</th>\n",
       "      <td>301989276</td>\n",
       "      <td>BROOKLYN</td>\n",
       "      <td>154</td>\n",
       "      <td>NOBLE STREET</td>\n",
       "      <td>2573</td>\n",
       "      <td>10</td>\n",
       "      <td>3065099</td>\n",
       "      <td>A1</td>\n",
       "      <td>301</td>\n",
       "      <td>09/29/2006</td>\n",
       "      <td>40000.0</td>\n",
       "      <td>0</td>\n",
       "      <td>0</td>\n",
       "      <td>C4-3</td>\n",
       "      <td>New C of O for existing building. New duplex a...</td>\n",
       "    </tr>\n",
       "  </tbody>\n",
       "</table>\n",
       "</div>"
      ],
      "text/plain": [
       "       Job #    Borough House #   Street Name  Block  Lot    Bin # Job Type  \\\n",
       "1  140922893  MANHATTAN     160       E 89 ST   1517   43  1048094       A2   \n",
       "2  301773579   BROOKLYN      65  GATES AVENUE   1962   86  3056039       A1   \n",
       "4  301989276   BROOKLYN     154  NOBLE STREET   2573   10  3065099       A1   \n",
       "\n",
       "   Community - Board Fully Permitted  Initial Cost  Proposed Zoning Sqft  \\\n",
       "1                108      07/14/2020       85000.0                     0   \n",
       "2                302      05/23/2007       60000.0                     0   \n",
       "4                301      09/29/2006       40000.0                     0   \n",
       "\n",
       "   Enlargement SQ Footage Zoning Dist1  \\\n",
       "1                       0          R8B   \n",
       "2                       0           R6   \n",
       "4                       0         C4-3   \n",
       "\n",
       "                                     Job Description  \n",
       "1  HEREBY FILING APPLICATION FOR THE INTERIOR REN...  \n",
       "2  Change existing four story and basement brick ...  \n",
       "4  New C of O for existing building. New duplex a...  "
      ]
     },
     "execution_count": 53,
     "metadata": {},
     "output_type": "execute_result"
    }
   ],
   "source": [
    "df_dt = wrangle(r\"C:\\Users\\sanus\\Desktop\\DS\\web\\apartment_cost_list.csv\")\n",
    "print(df_dt.info())\n",
    "df_dt.head(3)"
   ]
  },
  {
   "cell_type": "code",
   "execution_count": 54,
   "id": "db288dda",
   "metadata": {},
   "outputs": [
    {
     "data": {
      "text/plain": [
       "count     14823.000000\n",
       "mean        510.235985\n",
       "std        9480.088766\n",
       "min           0.000000\n",
       "25%           0.000000\n",
       "50%           0.000000\n",
       "75%           0.000000\n",
       "max      724475.000000\n",
       "Name: Proposed Zoning Sqft, dtype: float64"
      ]
     },
     "execution_count": 54,
     "metadata": {},
     "output_type": "execute_result"
    }
   ],
   "source": [
    "df_dt.describe()[\"Proposed Zoning Sqft\"]"
   ]
  },
  {
   "cell_type": "code",
   "execution_count": 55,
   "id": "09958351",
   "metadata": {},
   "outputs": [
    {
     "data": {
      "text/plain": [
       "(14823, 15)"
      ]
     },
     "execution_count": 55,
     "metadata": {},
     "output_type": "execute_result"
    }
   ],
   "source": [
    "df_dt.shape"
   ]
  },
  {
   "cell_type": "code",
   "execution_count": 56,
   "id": "97300d01",
   "metadata": {},
   "outputs": [],
   "source": [
    "# Check your work\n",
    "assert (\n",
    "    len(df_dt) <= 14823\n",
    "), f\"`df` should have no more than 1781 observations, not {len(df_dt)}.\""
   ]
  },
  {
   "cell_type": "code",
   "execution_count": 57,
   "id": "2c3865a4",
   "metadata": {},
   "outputs": [
    {
     "data": {
      "image/png": "[encoded data removed]",
      "text/plain": [
       "<Figure size 640x480 with 1 Axes>"
      ]
     },
     "metadata": {},
     "output_type": "display_data"
    }
   ],
   "source": [
    "# Histogram\n",
    "plt.hist(df_dt[\"Proposed Zoning Sqft\"])\n",
    "plt.xlabel(\"Area [sq meters]\")\n",
    "plt.title(\"Distribution of Apartment Sizes\");"
   ]
  },
  {
   "cell_type": "code",
   "execution_count": 59,
   "id": "855c23e3",
   "metadata": {},
   "outputs": [
    {
     "data": {
      "image/png": "[encoded data removed]",
      "text/plain": [
       "<Figure size 640x480 with 1 Axes>"
      ]
     },
     "metadata": {},
     "output_type": "display_data"
    }
   ],
   "source": [
    "plt.scatter(x=df_dt[\"Proposed Zoning Sqft\"], y=df_dt[\"Initial Cost\"])\n",
    "plt.xlabel(\"Area [sq meters]\")\n",
    "plt.ylabel(\"Initial Cost [USD]\")\n",
    "plt.title(\"New York: Initial Cost vs. Area\");"
   ]
  },
  {
   "cell_type": "code",
   "execution_count": 61,
   "id": "9bf4f3fb",
   "metadata": {},
   "outputs": [],
   "source": [
    "features = [\"Proposed Zoning Sqft\"]\n",
    "X_train = df_dt[features]"
   ]
  },
  {
   "cell_type": "code",
   "execution_count": 62,
   "id": "14da48e0",
   "metadata": {},
   "outputs": [
    {
     "data": {
      "text/plain": [
       "(14823, 1)"
      ]
     },
     "execution_count": 62,
     "metadata": {},
     "output_type": "execute_result"
    }
   ],
   "source": [
    "X_train.shape"
   ]
  },
  {
   "cell_type": "code",
   "execution_count": 63,
   "id": "9fa9b0ea",
   "metadata": {},
   "outputs": [],
   "source": [
    "# Check your work\n",
    "assert X_train.shape == (\n",
    "    14823,\n",
    "    1,\n",
    "), f\"The shape of `X_train` should be (1343, 1), not {X_train.shape}.\""
   ]
  },
  {
   "cell_type": "code",
   "execution_count": 65,
   "id": "98767817",
   "metadata": {},
   "outputs": [],
   "source": [
    "target = \"Initial Cost\"\n",
    "y_train = df_dt[target]"
   ]
  },
  {
   "cell_type": "code",
   "execution_count": 66,
   "id": "701572a8",
   "metadata": {},
   "outputs": [],
   "source": [
    "# Check your work\n",
    "assert y_train.shape == (14823,)"
   ]
  },
  {
   "cell_type": "code",
   "execution_count": 67,
   "id": "9b1f2565",
   "metadata": {},
   "outputs": [
    {
     "data": {
      "text/plain": [
       "59641.907845915135"
      ]
     },
     "execution_count": 67,
     "metadata": {},
     "output_type": "execute_result"
    }
   ],
   "source": [
    "y_mean = y_train.mean()\n",
    "y_mean"
   ]
  },
  {
   "cell_type": "code",
   "execution_count": 68,
   "id": "9e8f6931",
   "metadata": {},
   "outputs": [
    {
     "data": {
      "text/plain": [
       "[59641.907845915135,\n",
       " 59641.907845915135,\n",
       " 59641.907845915135,\n",
       " 59641.907845915135,\n",
       " 59641.907845915135]"
      ]
     },
     "execution_count": 68,
     "metadata": {},
     "output_type": "execute_result"
    }
   ],
   "source": [
    "y_pred_baseline = [y_mean] * len(y_train)\n",
    "y_pred_baseline[:5]"
   ]
  },
  {
   "cell_type": "code",
   "execution_count": 69,
   "id": "fd45a0cb",
   "metadata": {},
   "outputs": [
    {
     "data": {
      "text/plain": [
       "True"
      ]
     },
     "execution_count": 69,
     "metadata": {},
     "output_type": "execute_result"
    }
   ],
   "source": [
    "y_pred_baseline =  [y_mean] * len(y_train)\n",
    "len(y_pred_baseline) == len(y_train)"
   ]
  },
  {
   "cell_type": "code",
   "execution_count": 70,
   "id": "c29b92dc",
   "metadata": {},
   "outputs": [
    {
     "data": {
      "image/png": "[encoded data removed]",
      "text/plain": [
       "<Figure size 640x480 with 1 Axes>"
      ]
     },
     "metadata": {},
     "output_type": "display_data"
    }
   ],
   "source": [
    "plt.plot(X_train.values, y_pred_baseline, color=\"orange\", label=\"Baseline Model\")\n",
    "plt.scatter(X_train, y_train)\n",
    "plt.xlabel(\"Area [sq meters]\")\n",
    "plt.ylabel(\"Initial Cost [USD]\")\n",
    "plt.title(\"New York: Initial Cost vs. Area\")\n",
    "plt.legend();"
   ]
  },
  {
   "cell_type": "code",
   "execution_count": 72,
   "id": "bed82415",
   "metadata": {},
   "outputs": [
    {
     "name": "stdout",
     "output_type": "stream",
     "text": [
      "Mean Initial Cost: 59641.91\n",
      "Baseline MAE: 13246.89\n"
     ]
    }
   ],
   "source": [
    "mae_baseline = mean_absolute_error(y_train, y_pred_baseline)\n",
    "\n",
    "print(\"Mean Initial Cost:\", round(y_mean, 2))\n",
    "print(\"Baseline MAE:\", round(mae_baseline, 2))"
   ]
  },
  {
   "cell_type": "markdown",
   "id": "a6068581",
   "metadata": {},
   "source": [
    "# Iterate"
   ]
  },
  {
   "cell_type": "code",
   "execution_count": 73,
   "id": "511c6f84",
   "metadata": {},
   "outputs": [],
   "source": [
    "model = LinearRegression()"
   ]
  },
  {
   "cell_type": "code",
   "execution_count": 74,
   "id": "fddf0ece",
   "metadata": {},
   "outputs": [],
   "source": [
    "# Check your work\n",
    "assert isinstance(model, LinearRegression)"
   ]
  },
  {
   "cell_type": "code",
   "execution_count": 75,
   "id": "56d555c4",
   "metadata": {},
   "outputs": [
    {
     "data": {
      "text/plain": [
       "LinearRegression()"
      ]
     },
     "execution_count": 75,
     "metadata": {},
     "output_type": "execute_result"
    }
   ],
   "source": [
    "model.fit(X_train, y_train)"
   ]
  },
  {
   "cell_type": "code",
   "execution_count": 76,
   "id": "b8785821",
   "metadata": {},
   "outputs": [],
   "source": [
    "check_is_fitted(model)"
   ]
  },
  {
   "cell_type": "markdown",
   "id": "5d56477c",
   "metadata": {},
   "source": [
    "# Evaluate"
   ]
  },
  {
   "cell_type": "code",
   "execution_count": 77,
   "id": "5c6bb137",
   "metadata": {},
   "outputs": [
    {
     "data": {
      "text/plain": [
       "array([59642.30989279, 59642.30989279, 59642.30989279, 59642.30989279,\n",
       "       59642.30989279])"
      ]
     },
     "execution_count": 77,
     "metadata": {},
     "output_type": "execute_result"
    }
   ],
   "source": [
    "y_pred_training = model.predict(X_train)\n",
    "y_pred_training[:5]"
   ]
  },
  {
   "cell_type": "code",
   "execution_count": 80,
   "id": "573dac86",
   "metadata": {},
   "outputs": [],
   "source": [
    "# Check your work\n",
    "assert (\n",
    "    len(y_pred_training) == 14823\n",
    "), f\"There should be 1343 predictions in `y_pred_training`, not {len(y_pred_training)}.\""
   ]
  },
  {
   "cell_type": "code",
   "execution_count": 81,
   "id": "f6ddd39d",
   "metadata": {},
   "outputs": [
    {
     "name": "stdout",
     "output_type": "stream",
     "text": [
      "Training MAE: 13246.86\n"
     ]
    }
   ],
   "source": [
    "mae_training = mean_absolute_error(y_train, y_pred_training)\n",
    "print(\"Training MAE:\", round(mae_training, 2))"
   ]
  },
  {
   "cell_type": "markdown",
   "id": "4741afe5",
   "metadata": {},
   "source": [
    "# Communicate Results"
   ]
  },
  {
   "cell_type": "code",
   "execution_count": 82,
   "id": "a37c6389",
   "metadata": {},
   "outputs": [
    {
     "name": "stdout",
     "output_type": "stream",
     "text": [
      "Model Intercept: 59642.31\n"
     ]
    }
   ],
   "source": [
    "intercept = round(model.intercept_, 2)\n",
    "print(\"Model Intercept:\", intercept)\n",
    "assert any([isinstance(intercept, int), isinstance(intercept, float)])"
   ]
  },
  {
   "cell_type": "code",
   "execution_count": 83,
   "id": "977661c0",
   "metadata": {},
   "outputs": [
    {
     "name": "stdout",
     "output_type": "stream",
     "text": [
      "Model coefficient for \"Proposed Zoning Sqft\": -0.0\n"
     ]
    }
   ],
   "source": [
    "coefficient = round(model.coef_[0], 2)\n",
    "print('Model coefficient for \"Proposed Zoning Sqft\":', coefficient)\n",
    "assert any([isinstance(coefficient, int), isinstance(coefficient, float)])"
   ]
  },
  {
   "cell_type": "code",
   "execution_count": 84,
   "id": "9e7a561e",
   "metadata": {},
   "outputs": [
    {
     "data": {
      "image/png": "[encoded data removed]",
      "text/plain": [
       "<Figure size 640x480 with 1 Axes>"
      ]
     },
     "metadata": {},
     "output_type": "display_data"
    }
   ],
   "source": [
    "plt.plot(X_train.values, model.predict(X_train), color=\"r\", label=\"Linear Model\")\n",
    "plt.scatter(X_train, y_train)\n",
    "plt.xlabel(\"surface covered [sq meters]\")\n",
    "plt.ylabel(\"Initial Cost [usd]\")\n",
    "plt.legend();"
   ]
  },
  {
   "cell_type": "code",
   "execution_count": null,
   "id": "3f98dfab",
   "metadata": {},
   "outputs": [],
   "source": []
  }
 ],
 "metadata": {
  "kernelspec": {
   "display_name": "Python 3 (ipykernel)",
   "language": "python",
   "name": "python3"
  },
  "language_info": {
   "codemirror_mode": {
    "name": "ipython",
    "version": 3
   },
   "file_extension": ".py",
   "mimetype": "text/x-python",
   "name": "python",
   "nbconvert_exporter": "python",
   "pygments_lexer": "ipython3",
   "version": "3.9.13"
  }
 },
 "nbformat": 4,
 "nbformat_minor": 5
}
