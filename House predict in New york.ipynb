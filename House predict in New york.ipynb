{
 "cells": [
  {
   "cell_type": "markdown",
   "id": "ded9f43d",
   "metadata": {},
   "source": [
    "# Predicting Price with Size, Location, and Neighborhood"
   ]
  },
  {
   "cell_type": "code",
   "execution_count": 1,
   "id": "49ba9a22",
   "metadata": {},
   "outputs": [],
   "source": [
    "import warnings\n",
    "\n",
    "\n",
    "import pandas as pd\n",
    "import seaborn as sns\n",
    "from category_encoders import OneHotEncoder\n",
    "from IPython.display import VimeoVideo\n",
    "from ipywidgets import Dropdown, FloatSlider, IntSlider, interact\n",
    "from sklearn.impute import SimpleImputer\n",
    "from sklearn.linear_model import LinearRegression, Ridge  # noqa F401\n",
    "from sklearn.metrics import mean_absolute_error\n",
    "from sklearn.pipeline import make_pipeline\n",
    "from sklearn.utils.validation import check_is_fitted\n",
    "\n",
    "warnings.simplefilter(action=\"ignore\", category=FutureWarning)"
   ]
  },
  {
   "cell_type": "code",
   "execution_count": 14,
   "id": "38fbeea1",
   "metadata": {},
   "outputs": [],
   "source": [
    "def wrangle(filepath):\n",
    "     # Read CSV file into Dataframe\n",
    "    df_dt = pd.read_csv(filepath)\n",
    "    \n",
    "    # Drop features with high null counts\n",
    "    df_dt.drop(columns=[\"Curb Cut\", \"Horizontal Enlrgmt\", \"Vertical Enlrgmt\"], inplace=True)\n",
    "    \n",
    "    # Remove NAN Value\n",
    "    df_dt.dropna(inplace=True)\n",
    "    \n",
    "    # Transform 'Initial Cost from object to float\n",
    "    df_dt['Initial Cost'] = df_dt['Initial Cost'].apply(lambda x: float(x.replace('$','').replace(',','')))\n",
    "    \n",
    "    df_dt.drop(['Block','Bin #','Community - Board',\n",
    "               'Fully Permitted','Enlargement SQ Footage',\n",
    "               'Job Description','House #','Job #','Lot',\n",
    "               'Street Name','Job Type'\n",
    "               ],axis = 1, inplace = True\n",
    "              )\n",
    "\n",
    "    \n",
    "    \n",
    "    return df_dt"
   ]
  },
  {
   "cell_type": "code",
   "execution_count": 15,
   "id": "1bb44982",
   "metadata": {},
   "outputs": [
    {
     "name": "stdout",
     "output_type": "stream",
     "text": [
      "<class 'pandas.core.frame.DataFrame'>\n",
      "Int64Index: 14823 entries, 1 to 19610\n",
      "Data columns (total 4 columns):\n",
      " #   Column                Non-Null Count  Dtype  \n",
      "---  ------                --------------  -----  \n",
      " 0   Borough               14823 non-null  object \n",
      " 1   Initial Cost          14823 non-null  float64\n",
      " 2   Proposed Zoning Sqft  14823 non-null  int64  \n",
      " 3   Zoning Dist1          14823 non-null  object \n",
      "dtypes: float64(1), int64(1), object(2)\n",
      "memory usage: 579.0+ KB\n",
      "None\n"
     ]
    },
    {
     "data": {
      "text/html": [
       "<div>\n",
       "<style scoped>\n",
       "    .dataframe tbody tr th:only-of-type {\n",
       "        vertical-align: middle;\n",
       "    }\n",
       "\n",
       "    .dataframe tbody tr th {\n",
       "        vertical-align: top;\n",
       "    }\n",
       "\n",
       "    .dataframe thead th {\n",
       "        text-align: right;\n",
       "    }\n",
       "</style>\n",
       "<table border=\"1\" class=\"dataframe\">\n",
       "  <thead>\n",
       "    <tr style=\"text-align: right;\">\n",
       "      <th></th>\n",
       "      <th>Borough</th>\n",
       "      <th>Initial Cost</th>\n",
       "      <th>Proposed Zoning Sqft</th>\n",
       "      <th>Zoning Dist1</th>\n",
       "    </tr>\n",
       "  </thead>\n",
       "  <tbody>\n",
       "    <tr>\n",
       "      <th>1</th>\n",
       "      <td>MANHATTAN</td>\n",
       "      <td>85000.0</td>\n",
       "      <td>0</td>\n",
       "      <td>R8B</td>\n",
       "    </tr>\n",
       "    <tr>\n",
       "      <th>2</th>\n",
       "      <td>BROOKLYN</td>\n",
       "      <td>60000.0</td>\n",
       "      <td>0</td>\n",
       "      <td>R6</td>\n",
       "    </tr>\n",
       "    <tr>\n",
       "      <th>4</th>\n",
       "      <td>BROOKLYN</td>\n",
       "      <td>40000.0</td>\n",
       "      <td>0</td>\n",
       "      <td>C4-3</td>\n",
       "    </tr>\n",
       "  </tbody>\n",
       "</table>\n",
       "</div>"
      ],
      "text/plain": [
       "     Borough  Initial Cost  Proposed Zoning Sqft Zoning Dist1\n",
       "1  MANHATTAN       85000.0                     0          R8B\n",
       "2   BROOKLYN       60000.0                     0           R6\n",
       "4   BROOKLYN       40000.0                     0         C4-3"
      ]
     },
     "execution_count": 15,
     "metadata": {},
     "output_type": "execute_result"
    }
   ],
   "source": [
    "df_dt = wrangle(r\"C:\\Users\\sanus\\Desktop\\DS\\web\\apartment_cost_list.csv\")\n",
    "print(df_dt.info())\n",
    "df_dt.head(3)"
   ]
  },
  {
   "cell_type": "code",
   "execution_count": 16,
   "id": "c9a022ba",
   "metadata": {},
   "outputs": [
    {
     "data": {
      "text/plain": [
       "Borough                 0\n",
       "Initial Cost            0\n",
       "Proposed Zoning Sqft    0\n",
       "Zoning Dist1            0\n",
       "dtype: int64"
      ]
     },
     "execution_count": 16,
     "metadata": {},
     "output_type": "execute_result"
    }
   ],
   "source": [
    "df_dt.isnull().sum()"
   ]
  },
  {
   "cell_type": "code",
   "execution_count": 18,
   "id": "e66f1c59",
   "metadata": {},
   "outputs": [],
   "source": [
    "# Check your work\n",
    "assert len(df_dt) == 14823, f\"`df` has the wrong number of rows: {len(df_dt)}\"\n",
    "assert df_dt.shape[1] <= 17, f\"`df` has too many columns: {df_dt.shape[1]}\""
   ]
  },
  {
   "cell_type": "code",
   "execution_count": 19,
   "id": "e797115d",
   "metadata": {},
   "outputs": [
    {
     "data": {
      "text/plain": [
       "Borough           5\n",
       "Zoning Dist1    139\n",
       "dtype: int64"
      ]
     },
     "execution_count": 19,
     "metadata": {},
     "output_type": "execute_result"
    }
   ],
   "source": [
    "df_dt.select_dtypes(\"object\").nunique()"
   ]
  },
  {
   "cell_type": "code",
   "execution_count": 20,
   "id": "c21c954b",
   "metadata": {},
   "outputs": [
    {
     "data": {
      "text/html": [
       "<div>\n",
       "<style scoped>\n",
       "    .dataframe tbody tr th:only-of-type {\n",
       "        vertical-align: middle;\n",
       "    }\n",
       "\n",
       "    .dataframe tbody tr th {\n",
       "        vertical-align: top;\n",
       "    }\n",
       "\n",
       "    .dataframe thead th {\n",
       "        text-align: right;\n",
       "    }\n",
       "</style>\n",
       "<table border=\"1\" class=\"dataframe\">\n",
       "  <thead>\n",
       "    <tr style=\"text-align: right;\">\n",
       "      <th></th>\n",
       "      <th>Borough</th>\n",
       "      <th>Zoning Dist1</th>\n",
       "    </tr>\n",
       "  </thead>\n",
       "  <tbody>\n",
       "    <tr>\n",
       "      <th>1</th>\n",
       "      <td>MANHATTAN</td>\n",
       "      <td>R8B</td>\n",
       "    </tr>\n",
       "    <tr>\n",
       "      <th>2</th>\n",
       "      <td>BROOKLYN</td>\n",
       "      <td>R6</td>\n",
       "    </tr>\n",
       "    <tr>\n",
       "      <th>4</th>\n",
       "      <td>BROOKLYN</td>\n",
       "      <td>C4-3</td>\n",
       "    </tr>\n",
       "    <tr>\n",
       "      <th>5</th>\n",
       "      <td>BROOKLYN</td>\n",
       "      <td>R6</td>\n",
       "    </tr>\n",
       "    <tr>\n",
       "      <th>6</th>\n",
       "      <td>BROOKLYN</td>\n",
       "      <td>R6</td>\n",
       "    </tr>\n",
       "  </tbody>\n",
       "</table>\n",
       "</div>"
      ],
      "text/plain": [
       "     Borough Zoning Dist1\n",
       "1  MANHATTAN          R8B\n",
       "2   BROOKLYN           R6\n",
       "4   BROOKLYN         C4-3\n",
       "5   BROOKLYN           R6\n",
       "6   BROOKLYN           R6"
      ]
     },
     "execution_count": 20,
     "metadata": {},
     "output_type": "execute_result"
    }
   ],
   "source": [
    "df_dt.select_dtypes(\"object\").head()"
   ]
  },
  {
   "cell_type": "code",
   "execution_count": 23,
   "id": "3525bba8",
   "metadata": {},
   "outputs": [
    {
     "data": {
      "text/plain": [
       "<AxesSubplot:>"
      ]
     },
     "execution_count": 23,
     "metadata": {},
     "output_type": "execute_result"
    },
    {
     "data": {
      "image/png": "[encoded data removed]",
      "text/plain": [
       "<Figure size 640x480 with 2 Axes>"
      ]
     },
     "metadata": {},
     "output_type": "display_data"
    }
   ],
   "source": [
    "# Plot a correlation heatmap\n",
    "corr = df_dt.select_dtypes(\"number\").drop(columns=\"Initial Cost\").corr()\n",
    "sns.heatmap(corr)"
   ]
  },
  {
   "cell_type": "markdown",
   "id": "a947c94d",
   "metadata": {},
   "source": [
    "# Split Data"
   ]
  },
  {
   "cell_type": "code",
   "execution_count": 25,
   "id": "902c1db6",
   "metadata": {},
   "outputs": [],
   "source": [
    "target = \"Initial Cost\"\n",
    "features = [\"Borough\", \"Proposed Zoning Sqft\", \"Zoning Dist1\"]\n",
    "y_train = df_dt[target]\n",
    "X_train = df_dt[features]"
   ]
  },
  {
   "cell_type": "code",
   "execution_count": 26,
   "id": "b0b711a5",
   "metadata": {},
   "outputs": [],
   "source": [
    "# Check your work\n",
    "assert X_train.shape == (14823, 3), f\"`X_train` is the wrong size: {X_train.shape}.\"\n",
    "assert y_train.shape == (14823,), f\"`y_train` is the wrong size: {y_train.shape}.\""
   ]
  },
  {
   "cell_type": "markdown",
   "id": "aaca9268",
   "metadata": {},
   "source": [
    "# Build Model\n",
    "# Baseline"
   ]
  },
  {
   "cell_type": "code",
   "execution_count": 27,
   "id": "7dad7b81",
   "metadata": {},
   "outputs": [
    {
     "name": "stdout",
     "output_type": "stream",
     "text": [
      "Mean apt price: 59641.91\n",
      "Baseline MAE: 13246.892749315202\n"
     ]
    }
   ],
   "source": [
    "y_mean = y_train.mean()\n",
    "y_pred_baseline = [y_mean] * len(y_train)\n",
    "print(\"Mean apt price:\", round(y_mean, 2))\n",
    "print(\"Baseline MAE:\", mean_absolute_error(y_train, y_pred_baseline))"
   ]
  },
  {
   "cell_type": "code",
   "execution_count": 28,
   "id": "6abd7ef1",
   "metadata": {},
   "outputs": [
    {
     "data": {
      "text/plain": [
       "Pipeline(steps=[('onehotencoder',\n",
       "                 OneHotEncoder(cols=['Borough', 'Zoning Dist1'],\n",
       "                               use_cat_names=True)),\n",
       "                ('simpleimputer', SimpleImputer()), ('ridge', Ridge())])"
      ]
     },
     "execution_count": 28,
     "metadata": {},
     "output_type": "execute_result"
    }
   ],
   "source": [
    "model = make_pipeline(\n",
    "    OneHotEncoder(use_cat_names=True),\n",
    "    SimpleImputer(),\n",
    "    #LinearRegression()\n",
    "    Ridge()   \n",
    ")\n",
    "model.fit(X_train, y_train)"
   ]
  },
  {
   "cell_type": "code",
   "execution_count": 29,
   "id": "2e897654",
   "metadata": {},
   "outputs": [],
   "source": [
    "# Check your work\n",
    "check_is_fitted(model[-1])"
   ]
  },
  {
   "cell_type": "markdown",
   "id": "e44c33f2",
   "metadata": {},
   "source": [
    "# Evaluate"
   ]
  },
  {
   "cell_type": "code",
   "execution_count": 30,
   "id": "640f6b16",
   "metadata": {},
   "outputs": [
    {
     "name": "stdout",
     "output_type": "stream",
     "text": [
      "Training MAE: 13236.590147483717\n"
     ]
    }
   ],
   "source": [
    "y_pred_training = model.predict(X_train)\n",
    "print(\"Training MAE:\", mean_absolute_error(y_train, y_pred_training))"
   ]
  },
  {
   "cell_type": "code",
   "execution_count": 31,
   "id": "bcf26969",
   "metadata": {},
   "outputs": [
    {
     "name": "stdout",
     "output_type": "stream",
     "text": [
      "coefficients len: 145\n",
      "[-5067.38187189 -1407.98267232  5517.99951791 -1485.95884076\n",
      "  2443.32386706]\n"
     ]
    }
   ],
   "source": [
    "intercept = model.named_steps[\"ridge\"].intercept_\n",
    "coefficients = model.named_steps[\"ridge\"].coef_\n",
    "print(\"coefficients len:\", len(coefficients))\n",
    "print(coefficients[:5])  # First five coefficients"
   ]
  },
  {
   "cell_type": "code",
   "execution_count": 32,
   "id": "504cfc70",
   "metadata": {},
   "outputs": [
    {
     "name": "stdout",
     "output_type": "stream",
     "text": [
      "features len: 145\n",
      "['Borough_MANHATTAN', 'Borough_BROOKLYN', 'Borough_BRONX', 'Borough_QUEENS', 'Borough_STATEN ISLAND']\n"
     ]
    }
   ],
   "source": [
    "feature_names = model.named_steps[\"onehotencoder\"].get_feature_names() \n",
    "print(\"features len:\", len(feature_names))\n",
    "print(feature_names[:5])  # First five feature names"
   ]
  },
  {
   "cell_type": "code",
   "execution_count": 33,
   "id": "3c8cae8e",
   "metadata": {},
   "outputs": [
    {
     "data": {
      "text/plain": [
       "Borough_MANHATTAN       -5067.381872\n",
       "Borough_BROOKLYN        -1407.982672\n",
       "Borough_BRONX            5517.999518\n",
       "Borough_QUEENS          -1485.958841\n",
       "Borough_STATEN ISLAND    2443.323867\n",
       "dtype: float64"
      ]
     },
     "execution_count": 33,
     "metadata": {},
     "output_type": "execute_result"
    }
   ],
   "source": [
    "feat_imp = pd.Series(coefficients, index=feature_names)\n",
    "feat_imp.head()"
   ]
  },
  {
   "cell_type": "code",
   "execution_count": 34,
   "id": "2f1af9cb",
   "metadata": {},
   "outputs": [
    {
     "name": "stdout",
     "output_type": "stream",
     "text": [
      "price = 62661.76\n",
      "+ (-5067.38 * Borough_MANHATTAN)\n",
      "+ (-1407.98 * Borough_BROOKLYN)\n",
      "+ (5518.0 * Borough_BRONX)\n",
      "+ (-1485.96 * Borough_QUEENS)\n",
      "+ (2443.32 * Borough_STATEN ISLAND)\n",
      "+ (0.0 * Proposed Zoning Sqft)\n",
      "+ (322.41 * Zoning Dist1_R8B)\n",
      "+ (-217.26 * Zoning Dist1_R6)\n",
      "+ (-3239.36 * Zoning Dist1_C4-3)\n",
      "+ (-709.93 * Zoning Dist1_R6B)\n",
      "+ (-2804.24 * Zoning Dist1_R5)\n",
      "+ (229.85 * Zoning Dist1_R8)\n",
      "+ (8343.35 * Zoning Dist1_R9A)\n",
      "+ (5157.7 * Zoning Dist1_C1-5)\n",
      "+ (4238.22 * Zoning Dist1_R10)\n",
      "+ (-831.02 * Zoning Dist1_C2-3)\n",
      "+ (6337.55 * Zoning Dist1_C5-1)\n",
      "+ (-25.88 * Zoning Dist1_R8A)\n",
      "+ (4223.68 * Zoning Dist1_R10A)\n",
      "+ (796.27 * Zoning Dist1_R10-)\n",
      "+ (1101.65 * Zoning Dist1_M1-6)\n",
      "+ (1638.72 * Zoning Dist1_C4-5)\n",
      "+ (1658.37 * Zoning Dist1_C1-8X)\n",
      "+ (995.44 * Zoning Dist1_R7-2)\n",
      "+ (-2070.18 * Zoning Dist1_R6A)\n",
      "+ (-40.14 * Zoning Dist1_M1-1)\n",
      "+ (-780.68 * Zoning Dist1_R7A)\n",
      "+ (-7112.38 * Zoning Dist1_R7-1)\n",
      "+ (891.64 * Zoning Dist1_R7B)\n",
      "+ (-1849.84 * Zoning Dist1_C1-6)\n",
      "+ (2996.95 * Zoning Dist1_C6-4)\n",
      "+ (-1652.14 * Zoning Dist1_R4)\n",
      "+ (-3093.43 * Zoning Dist1_C1-3)\n",
      "+ (3433.91 * Zoning Dist1_M1-2)\n",
      "+ (-10189.24 * Zoning Dist1_C1-2)\n",
      "+ (2680.25 * Zoning Dist1_R5B)\n",
      "+ (-5438.1 * Zoning Dist1_C2-6)\n",
      "+ (-1759.02 * Zoning Dist1_R8X)\n",
      "+ (-6503.73 * Zoning Dist1_C2-2)\n",
      "+ (3989.42 * Zoning Dist1_C6-2A)\n",
      "+ (2799.22 * Zoning Dist1_C2-8)\n",
      "+ (4974.97 * Zoning Dist1_C5-3)\n",
      "+ (754.19 * Zoning Dist1_C6-2)\n",
      "+ (40938.97 * Zoning Dist1_C1-4)\n",
      "+ (891.12 * Zoning Dist1_C6-2G)\n",
      "+ (-3192.89 * Zoning Dist1_R4-1)\n",
      "+ (1093.54 * Zoning Dist1_C1-6A)\n",
      "+ (903.83 * Zoning Dist1_C1-1)\n",
      "+ (-672.84 * Zoning Dist1_C6-1)\n",
      "+ (1117.07 * Zoning Dist1_M1-4)\n",
      "+ (5703.83 * Zoning Dist1_C6-2M)\n",
      "+ (-438.12 * Zoning Dist1_M1-5M)\n",
      "+ (-6253.48 * Zoning Dist1_C4-4A)\n",
      "+ (180.79 * Zoning Dist1_M1-5B)\n",
      "+ (15.85 * Zoning Dist1_R10H)\n",
      "+ (1507.76 * Zoning Dist1_C1-9)\n",
      "+ (2090.85 * Zoning Dist1_C5-2)\n",
      "+ (-4446.57 * Zoning Dist1_R3-1)\n",
      "+ (-2612.13 * Zoning Dist1_C4-2)\n",
      "+ (-5772.97 * Zoning Dist1_R3-2)\n",
      "+ (-6592.56 * Zoning Dist1_M3-1)\n",
      "+ (883.53 * Zoning Dist1_C2-8A)\n",
      "+ (-12486.53 * Zoning Dist1_C4-2A)\n",
      "+ (2256.49 * Zoning Dist1_C4-6A)\n",
      "+ (2486.24 * Zoning Dist1_M1-5)\n",
      "+ (5685.96 * Zoning Dist1_R9)\n",
      "+ (-8680.64 * Zoning Dist1_R3A)\n",
      "+ (-1401.47 * Zoning Dist1_C1-7A)\n",
      "+ (4363.69 * Zoning Dist1_C4-3A)\n",
      "+ (1938.86 * Zoning Dist1_C6-6)\n",
      "+ (2070.6 * Zoning Dist1_C6-4M)\n",
      "+ (-9291.23 * Zoning Dist1_C6-3A)\n",
      "+ (-6272.03 * Zoning Dist1_R5D)\n",
      "+ (3500.21 * Zoning Dist1_C6-4A)\n",
      "+ (2221.66 * Zoning Dist1_C5-5)\n",
      "+ (-6037.98 * Zoning Dist1_C2-7A)\n",
      "+ (-9940.64 * Zoning Dist1_M1-3D)\n",
      "+ (2391.63 * Zoning Dist1_C6-3)\n",
      "+ (-7097.07 * Zoning Dist1_M1-2/R6A)\n",
      "+ (311.45 * Zoning Dist1_C5-2A)\n",
      "+ (-3440.34 * Zoning Dist1_R1-2)\n",
      "+ (-3352.91 * Zoning Dist1_C1-8A)\n",
      "+ (-6937.02 * Zoning Dist1_R3X)\n",
      "+ (3765.06 * Zoning Dist1_C8-4)\n",
      "+ (-1650.61 * Zoning Dist1_C1-8)\n",
      "+ (437.65 * Zoning Dist1_C1-9A)\n",
      "+ (-2677.22 * Zoning Dist1_C5-2.5)\n",
      "+ (7883.77 * Zoning Dist1_C4-7)\n",
      "+ (11381.76 * Zoning Dist1_R9X)\n",
      "+ (12324.49 * Zoning Dist1_C6-6.5)\n",
      "+ (1603.75 * Zoning Dist1_C6-4X)\n",
      "+ (-18786.51 * Zoning Dist1_C3A)\n",
      "+ (4511.17 * Zoning Dist1_C1-7)\n",
      "+ (5192.77 * Zoning Dist1_C6-3X)\n",
      "+ (3349.33 * Zoning Dist1_M2-1)\n",
      "+ (36842.31 * Zoning Dist1_BPC)\n",
      "+ (-13865.33 * Zoning Dist1_C2-4)\n",
      "+ (279.48 * Zoning Dist1_C5-1A)\n",
      "+ (-1962.8 * Zoning Dist1_C4-4)\n",
      "+ (-5409.07 * Zoning Dist1_C6-1G)\n",
      "+ (-5211.52 * Zoning Dist1_C6-9)\n",
      "+ (-2964.66 * Zoning Dist1_C6-5)\n",
      "+ (3093.86 * Zoning Dist1_M1-5A)\n",
      "+ (3924.49 * Zoning Dist1_C6-7T)\n",
      "+ (-14940.34 * Zoning Dist1_C8-2)\n",
      "+ (8582.77 * Zoning Dist1_C4-6)\n",
      "+ (-5587.9 * Zoning Dist1_M1-4/R6B)\n",
      "+ (7830.81 * Zoning Dist1_M1-4/R7A)\n",
      "+ (-1729.59 * Zoning Dist1_M1-6D)\n",
      "+ (-3661.98 * Zoning Dist1_C4-4D)\n",
      "+ (-6534.58 * Zoning Dist1_C6-4.5)\n",
      "+ (-525.06 * Zoning Dist1_C2-6A)\n",
      "+ (-6835.91 * Zoning Dist1_R4B)\n",
      "+ (4455.18 * Zoning Dist1_M1-2/R8A)\n",
      "+ (-3603.02 * Zoning Dist1_M1-2D)\n",
      "+ (4647.43 * Zoning Dist1_C5-P)\n",
      "+ (3550.56 * Zoning Dist1_M1-6M)\n",
      "+ (4937.08 * Zoning Dist1_LH-1)\n",
      "+ (1979.82 * Zoning Dist1_R2)\n",
      "+ (-7711.48 * Zoning Dist1_M1-2/R6)\n",
      "+ (-8396.25 * Zoning Dist1_C2-7)\n",
      "+ (6202.81 * Zoning Dist1_M1-5/R7X)\n",
      "+ (14937.08 * Zoning Dist1_C6-8)\n",
      "+ (1659.91 * Zoning Dist1_C2-5)\n",
      "+ (4937.08 * Zoning Dist1_C4-5X)\n",
      "+ (-12875.51 * Zoning Dist1_C4-5A)\n",
      "+ (6618.15 * Zoning Dist1_M1-5/R8A)\n",
      "+ (-15453.18 * Zoning Dist1_C8-3)\n",
      "+ (7396.98 * Zoning Dist1_C2-1)\n",
      "+ (1559.66 * Zoning Dist1_R4A)\n",
      "+ (-12835.85 * Zoning Dist1_C8-1)\n",
      "+ (9373.11 * Zoning Dist1_R7D)\n",
      "+ (-12119.84 * Zoning Dist1_R5A)\n",
      "+ (11912.1 * Zoning Dist1_M1-5/R7-3)\n",
      "+ (387.98 * Zoning Dist1_R10-H)\n",
      "+ (671.35 * Zoning Dist1_C4-7A)\n",
      "+ (5373.11 * Zoning Dist1_C5-4)\n",
      "+ (-9626.89 * Zoning Dist1_M1-2/R6B)\n",
      "+ (-6590.06 * Zoning Dist1_R7X)\n",
      "+ (2603.75 * Zoning Dist1_C5-5CR)\n",
      "+ (-1945.79 * Zoning Dist1_C6-1A)\n",
      "+ (1304.21 * Zoning Dist1_C6-7)\n",
      "+ (-6297.19 * Zoning Dist1_C6-2A TMU)\n",
      "+ (6202.81 * Zoning Dist1_C4-1)\n",
      "+ (-8797.19 * Zoning Dist1_M1-5D)\n"
     ]
    }
   ],
   "source": [
    "print(f\"price = {intercept.round(2)}\")\n",
    "for f, c in feat_imp.items():\n",
    "    print(f\"+ ({round(c, 2)} * {f})\")"
   ]
  },
  {
   "cell_type": "markdown",
   "id": "7bcfc72b",
   "metadata": {},
   "source": [
    "# Communicate Results"
   ]
  },
  {
   "cell_type": "code",
   "execution_count": 50,
   "id": "f2e78926",
   "metadata": {},
   "outputs": [],
   "source": [
    "def make_prediction(area, lat, neighborhood):\n",
    "    data = {\n",
    "        \"Proposed Zoning Sqft\":area,\n",
    "        \"Zoning Dist1\": lat,\n",
    "        \"Borough\": neighborhood\n",
    "    }\n",
    "    df = pd.DataFrame(data, index=[0])\n",
    "    prediction = model.predict(df).round(2)[0]\n",
    "    return f\"Predicted apartment price: ${prediction}\""
   ]
  },
  {
   "cell_type": "code",
   "execution_count": 51,
   "id": "c4bd4ca7",
   "metadata": {},
   "outputs": [
    {
     "data": {
      "text/plain": [
       "'Predicted apartment price: $-493446.03'"
      ]
     },
     "execution_count": 51,
     "metadata": {},
     "output_type": "execute_result"
    }
   ],
   "source": [
    "make_prediction(110, 15.45, \"BROOKLYN\")"
   ]
  },
  {
   "cell_type": "code",
   "execution_count": null,
   "id": "fc9cf2fb",
   "metadata": {},
   "outputs": [],
   "source": []
  }
 ],
 "metadata": {
  "kernelspec": {
   "display_name": "Python 3 (ipykernel)",
   "language": "python",
   "name": "python3"
  },
  "language_info": {
   "codemirror_mode": {
    "name": "ipython",
    "version": 3
   },
   "file_extension": ".py",
   "mimetype": "text/x-python",
   "name": "python",
   "nbconvert_exporter": "python",
   "pygments_lexer": "ipython3",
   "version": "3.9.13"
  }
 },
 "nbformat": 4,
 "nbformat_minor": 5
}
